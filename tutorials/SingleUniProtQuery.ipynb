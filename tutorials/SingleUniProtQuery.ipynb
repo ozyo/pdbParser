{
 "cells": [
  {
   "cell_type": "markdown",
   "metadata": {},
   "source": [
    "## INTRODUCTION\n",
    "  In Orellana *et al.* 2016, we have used all the crystal structures of a protein to create an ensemble. What we call an ensemble in this article is a set of structures that are not chimeric, represent the whole protein rather than a single domain of it, and do not contain more than 5 consecutive non-terminal missing residues. As much as we would like to automate this process, preparation of an ensemble often requires manual intervention due to problems like, chimeric constructs or the placement of subunits (clockwise vs. anticlockwise). There is also a decision to be made whether to exclude a structure that has non-terminal missing residues.\n",
    "  \n",
    "  While preparing the ensembles for this article, we have taken care of those problems manually and made a decision to repair the structures  if it was known to represent an important state which does not have any other representatives. Altough it very much depends on the state structure, and the location of the missing residues, we recommend repairing structures with only less than 5 consecutive residues missing. There is an example modeller script that can be used for this.  It is upto the user to fix and include them in the ensemble later.\n",
    "  \n",
    "  This tutorial will be using GLIC as an example. Because this was the most challenging ensemble we prepared, it highlights most of the issues the users are likely to encounter. "
   ]
  },
  {
   "cell_type": "markdown",
   "metadata": {},
   "source": [
    "## HOW TO\n",
    "### Requirements\n",
    "Before we get started make sure you have installed the enspdb package, or you are running this notebook in a place where enspdb is the subfolder. You will find the other required python packages within [github](https://github.com/ozyo/enspdb) README.md\n",
    "\n",
    "To determine the missing residues, enspdb relies on sequence alignment. If you use enspdb to prepare a start and an end structure for eBDIMs then the alignment is generated via BioPython. However if you are preparing an ensemble you must install Clustal Omega or run the provided fasta sequence through a multiple sequence alignment tool and save the alignment in fasta format. The installation of Clustal Omega can easily be done via conda. After you install it you should provide the full path for the clustal executable.\n",
    "\n",
    "Altough not a requirement, if you want to fix any broken structures you will need a modelling program. We have provided an example script for MODELLER."
   ]
  },
  {
   "cell_type": "markdown",
   "metadata": {},
   "source": [
    "### Obtaining PDB Files\n",
    "  It can be daunting to find all the available PDB files, and the chains that actually belongs to your protein. The easiset way to do this is to go through the UniProtKB database and enspdb requires the UniProt ID to prepare the ensemble. \n",
    "  ![title](img/uniprot_ini_search.png)\n",
    "  \n",
    "After finding the UniProt ID you can run the commands below to gather information. Besides the UniProt ID, you also have to provide the total number of chains that are in a biological assembly. Heteromeric structures require a different routine which are not yet supported in enspdb. However similar logic applies in preperation of such an ensemble that only the shared CA coordinates should be kept, any broken structures should be fixed or excluded.\n",
    "\n",
    "You should also provide a folder that exits for inputs/outputs to be read/written. If you use \".\" This will take the current directory for outputs."
   ]
  },
  {
   "cell_type": "code",
   "execution_count": 1,
   "metadata": {},
   "outputs": [],
   "source": [
    "from pathlib import Path\n",
    "query='Q7NDN8' #UniPortKB ID\n",
    "mer=5 #Total number of chains\n",
    "cwd=Path(\"glic_test\") #This directory must exist\n",
    "cwd.mkdir(exist_ok=True)\n",
    "exclude=None #[List of PDB IDs] \n",
    "#If you already know some structures you want to exclude provide them as a list. "
   ]
  },
  {
   "cell_type": "code",
   "execution_count": 2,
   "metadata": {},
   "outputs": [
    {
     "name": "stderr",
     "output_type": "stream",
     "text": [
      "CRITICAL:root:Cannot process PDB id 3IGQ. It does not contain a complete set\n"
     ]
    }
   ],
   "source": [
    "from enspdb import ensemble as pE\n",
    "from importlib import reload\n",
    "\n",
    "reload(pE)\n",
    "info=pE.PDBInfo(query,mer,exclude=exclude,workdir=cwd) #Add the exclude argument to the end."
   ]
  },
  {
   "cell_type": "markdown",
   "metadata": {},
   "source": [
    "PDBInfo function goes into the UniProt page of the given ID, and retrives the 3D structures table (as seen in figure below) and the reference sequence to be used for the alignment. For the reasons below it is much easier to prepare the ensemble via a database like UniProtKB:\n",
    "* Because there is a possiblity of all the structures having the same missing residues, the reference sequence is a good control to have. \n",
    "* Within 3D structure table, only the ones with the label \"X-ray\" are downloaded. Currently we don't support multi-model pdb files.\n",
    "* The relevant chains for this protein is also extracted from this table, this is much easier than reading PDB headers.\n",
    "\n",
    "In the example above, you already see that 3IGQ structure is skipped. That is because this file had 6 subunits vs. 5. If you go into the RCSB Database and look at this structure you will see that it contains only the extracellular domain and not the whole structure. To our advantage this one had more subunits than we required, so it is eliminated early on.\n",
    "\n",
    "![title](img/uniprot_3dtable.png)"
   ]
  },
  {
   "cell_type": "markdown",
   "metadata": {},
   "source": [
    "  After the information is gathered, info object is populated with the possible structures to be used and the reference sequence. You can reach the list via commands below. If you want to manipulate this list, add or remove structures, or change the reference sequence you can do so at this stage. Please not that all the functions in prepENS module uses and modifes this class directly."
   ]
  },
  {
   "cell_type": "code",
   "execution_count": 3,
   "metadata": {
    "scrolled": true
   },
   "outputs": [
    {
     "name": "stdout",
     "output_type": "stream",
     "text": [
      "5\n",
      "{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}\n",
      "{'Q7NDN8': 'MFPTGWRPKLSESIAASRMLWQPMAAVAVVQIGLLWFSPPVWGQDMVSPPPPIADEPLTVNTGIYLIECYSLDDKAETFKVNAFLSLSWKDRRLAFDPVRSGVRVKTYEPEAIWIPEIRFVNVENARDADVVDISVSPDGTVQYLERFSARVLSPLDFRRYPFDSQTLHIYLIVRSVDTRNIVLAVDLEKVGKNDDVFLTGWDIESFTAVVKPANFALEDRLESKLDYQLRISRQYFSYIPNIILPMLFILFISWTAFWSTSYEANVTLVVSTLIAHIAFNILVETNLPKTPYMTYTGAIIFMIYLFYFVAVIEVTVQHYLKVESQPARAASITRASRIAFPVVFLLANIILAFLFFGF'}\n"
     ]
    }
   ],
   "source": [
    "info.query #UniPort ID used to initialize this class\n",
    "#and it is also used for the output names.\n",
    "print(info.mer) # Total number of chains\n",
    "print(info.result) #Contains the information from the 3D structures table.\n",
    "print(info.refseqs) #Contains the reference sequence. "
   ]
  },
  {
   "cell_type": "markdown",
   "metadata": {},
   "source": [
    "  The next command downloads the structures from the RCSB database. Depending on the number of structures this function might take a while to finish because after it downloads the files it goes through the steps below to clean them:\n",
    "  1. It checks for lines with TITLE to find the chimeric structures.\n",
    "  2. It seperates the biological assemblies within the same PDB file\n",
    "  3. It keeps only the CA coordinates, which are the only relevant atoms for comparison with eBDIMs trajectories. Obtaining only CA coordinates is also a way to clean the PDB files from bound ligands, ions, waters, etc.\n",
    "  4. It extracts the sequence and the residue numbering from the CA coordinates and writes them to text files.\n",
    "\n",
    "enspdb relies on multiple sequence alignment to determine the missing residues. This also allows us to ignore the differences in residue numbering between different structures, non-consecutive numbering. The residue numbering information is only used to extract the residues from the the PDB file itself. \n",
    "The sequence for the alignment is extracted from CA coordinates, rather than PDB header. Because a residue might have missing CA coordinate, despite being listed in the sequence records.\n",
    "\n",
    "  In the example below you see that there are more warnings, stating that more structures will be excluded from the ensemble because they are chimeras. The function checks for two keywords in the title 'CHIMERA' and 'FUSED'. Since these structures cannot be used, their information is removed from the info.result dictionary automatically and those files are deleted."
   ]
  },
  {
   "cell_type": "code",
   "execution_count": 19,
   "metadata": {},
   "outputs": [],
   "source": [
    "reload(pE)\n",
    "pE.PDBInfo.downloadPDB(info,cwd)\n",
    "pE.PDBInfo.process_pdbs(info,cwd, overwrite_pdb=True)"
   ]
  },
  {
   "cell_type": "markdown",
   "metadata": {},
   "source": [
    "### Multiple Sequence Alignment and Identification of the Shared Region\n",
    "If you check the output folder, you will find two text files: \"_seq.txt\" and \"_residmap.txt\". We need the information within these files for the multiple sequence alignment and the subsequent cleaning of the terminal residues that are not shared between the structures. It is possible that some structures still contain a terminal tag, that would interfere with the alignment and introduce unncessary gaps. Any chain that contains a non-terminal gap at this stage is marked as broken and the assembly they belong to is skipped.\n",
    "\n",
    "  If you chose to run the alignment somwhere else, you must clean any headers that is written to it. And the names in the fasta header must be in the same format as in the example file in this tutorial. The alignment should also contain a reference sequence with a header refseq. When you run the function below with the argument alnf=\"alignmentfile.fasta\" , it will only go through the file to determine the broken chains. It does not run clustal, so you don't have to provide it. The alignment file must be placed where *cwd* is set to."
   ]
  },
  {
   "cell_type": "code",
   "execution_count": 20,
   "metadata": {},
   "outputs": [
    {
     "name": "stdout",
     "output_type": "stream",
     "text": [
      "Found blocks: {'B1': [0, 1, 2, 3, 4, 5, 6, 7, 8, 9, 10, 11, 12, 13, 14, 15, 16, 17, 18, 19, 20, 21, 22, 23, 24, 25, 26, 27, 28, 29, 30, 31, 32, 33, 34, 35, 36, 37, 38, 39, 40, 41, 42, 43, 44, 45, 46, 47, 48, 49, 50, 51, 52, 53, 54, 55, 56, 57, 58, 59, 60, 61, 62, 63, 64, 65, 66, 67, 68, 69, 70, 71, 72, 73, 74, 75, 76, 77, 78, 79, 80, 81, 82, 83, 84, 85, 86, 87, 88, 89, 90, 91, 92, 93, 94, 95, 96, 97, 98, 99, 100, 101, 102, 103, 104, 105, 106, 107, 108, 109, 110, 111, 112, 113, 114, 115, 116, 117, 118, 119, 120, 121, 122, 123, 124, 125, 126, 127, 128, 129, 130, 131, 132, 133, 134, 135, 136, 137, 138, 139, 140, 141, 142, 143, 144, 145, 146, 147, 148, 149, 150, 151, 152, 153, 154, 155, 156, 157, 158, 159, 160, 161, 162, 163, 164, 165, 166, 167, 168, 169, 170, 171, 172, 173, 174, 175, 176, 177, 178, 179, 180, 181, 182, 183, 184, 185, 186, 187, 188, 189, 190, 191, 192, 193, 194, 195, 196, 197, 198, 199, 200, 201, 202, 203, 204, 205, 206, 207, 208, 209, 210, 211, 212, 213, 214, 215, 216, 217, 218, 219, 220, 221, 222, 223, 224, 225, 226, 227, 228, 229, 230, 231, 232, 233, 234, 235, 236, 237, 238, 239, 240, 241, 242, 243, 244, 245, 246, 247, 248, 249, 250, 251, 252, 253, 254, 255, 256, 257, 258, 259, 260, 261, 262, 263, 264, 265, 266, 267, 268, 269, 270, 271, 272, 273, 274, 275, 276, 277, 278, 279, 280, 281, 282, 283, 284, 285, 286, 287, 288, 289, 290, 291, 292, 293, 294, 295, 296, 297, 298, 299, 300, 301, 302, 303, 304, 305, 306, 307, 308, 309, 310, 311, 312, 313, 314, 315, 316, 317, 318, 319, 320, 321, 322, 323, 324, 325, 326, 327, 328, 329, 330, 331, 332, 333, 334, 335, 336, 337, 338, 339, 340, 341, 342, 343, 344, 345, 346, 347, 348, 349, 350, 351, 352, 353, 354, 355, 356, 357, 358]}\n"
     ]
    },
    {
     "name": "stderr",
     "output_type": "stream",
     "text": [
      "WARNING:root:3UU3_1.pdb|A| has missing residues in block B1, marked as broken.\n",
      "WARNING:root:3UU3_1.pdb|B| has missing residues in block B1, marked as broken.\n",
      "WARNING:root:3UU3_1.pdb|C| has missing residues in block B1, marked as broken.\n",
      "WARNING:root:3UU3_1.pdb|D| has missing residues in block B1, marked as broken.\n",
      "WARNING:root:3UU3_1.pdb|E| has missing residues in block B1, marked as broken.\n",
      "WARNING:root:4HFH_1.pdb|D| has missing residues in block B1, marked as broken.\n",
      "WARNING:root:4ILA_1.pdb|E| has missing residues in block B1, marked as broken.\n",
      "WARNING:root:4NPQ_2.pdb|H| has missing residues in block B1, marked as broken.\n",
      "WARNING:root:4NPQ_2.pdb|I| has missing residues in block B1, marked as broken.\n",
      "WARNING:root:4NPQ_3.pdb|K| has missing residues in block B1, marked as broken.\n",
      "WARNING:root:4NPQ_3.pdb|L| has missing residues in block B1, marked as broken.\n",
      "WARNING:root:4NPQ_3.pdb|M| has missing residues in block B1, marked as broken.\n",
      "WARNING:root:4NPQ_4.pdb|S| has missing residues in block B1, marked as broken.\n",
      "WARNING:root:6ZGD_1.pdb|A| has missing residues in block B1, marked as broken.\n",
      "WARNING:root:6ZGD_1.pdb|B| has missing residues in block B1, marked as broken.\n",
      "WARNING:root:6ZGD_1.pdb|C| has missing residues in block B1, marked as broken.\n",
      "WARNING:root:6ZGD_1.pdb|D| has missing residues in block B1, marked as broken.\n",
      "WARNING:root:6ZGD_1.pdb|E| has missing residues in block B1, marked as broken.\n",
      "WARNING:root:6ZGJ_1.pdb|A| has missing residues in block B1, marked as broken.\n",
      "WARNING:root:6ZGJ_1.pdb|B| has missing residues in block B1, marked as broken.\n",
      "WARNING:root:6ZGJ_1.pdb|C| has missing residues in block B1, marked as broken.\n",
      "WARNING:root:6ZGJ_1.pdb|D| has missing residues in block B1, marked as broken.\n",
      "WARNING:root:6ZGJ_1.pdb|E| has missing residues in block B1, marked as broken.\n",
      "WARNING:root:6ZGK_1.pdb|A| has missing residues in block B1, marked as broken.\n",
      "WARNING:root:6ZGK_1.pdb|B| has missing residues in block B1, marked as broken.\n",
      "WARNING:root:6ZGK_1.pdb|C| has missing residues in block B1, marked as broken.\n",
      "WARNING:root:6ZGK_1.pdb|D| has missing residues in block B1, marked as broken.\n",
      "WARNING:root:6ZGK_1.pdb|E| has missing residues in block B1, marked as broken.\n"
     ]
    }
   ],
   "source": [
    "clustalopath=\"/home/ozyo/.local/bin/clustalo-1.2.4-Ubuntu-x86_64\"\n",
    "alignments=pE.PDBInfo.msa_clustal(info,cwd,clustalopath)"
   ]
  },
  {
   "cell_type": "code",
   "execution_count": 21,
   "metadata": {},
   "outputs": [],
   "source": [
    "#info.core_show(cwd)\n",
    "#reload(pE)\n",
    "pE.PDBInfo.get_core(info,cwd)"
   ]
  },
  {
   "cell_type": "code",
   "execution_count": null,
   "metadata": {},
   "outputs": [],
   "source": [
    "# Kernel often crashes when executing modeller through this cell.\n",
    "%cd glic_test/clean_pdbs\n",
    "%cp ../../fix_model.py ../../myloop.py ../../seg.ali .\n",
    "%run -i 'fix_model.py' #You have to modify the contents of this file if you are working on your own example.\n",
    "%cp 4NPQ_4_fixed.pdb 4NPQ_4.pdb "
   ]
  },
  {
   "cell_type": "code",
   "execution_count": 22,
   "metadata": {},
   "outputs": [],
   "source": [
    "info.broken.remove('4NPQ_4.pdb')\n",
    "#Python indexing starts from 0\n",
    "chains=info.result['4NPQ'][1][3] \n",
    "#Chain informations are the 2nd element and within that list the 4th ensemble. \n",
    "info.coremer['4NPQ_4.pdb']=chains\n",
    "info.coreresids.loc['4NPQ_4.pdb|S|']=info.coreresids.loc['4NPQ_4.pdb|T|'] \n",
    "#Since this is a homopentamer, I have just used the information from other chain to set the residue numbers for |S|"
   ]
  },
  {
   "cell_type": "markdown",
   "metadata": {},
   "source": [
    "The function is a class method, thus we don't need to any arguments to it, only the path to the clustal omega executable. So if you need to change names of the sequence file, for example, you can do so by modifying the class object directly, info.seqfilename is mutable. If you need to add or delete chains/structures you must modify both the text files and the info.result dictionary. You will see an example below\n",
    "\n",
    "As you see above there are quite a few chains that have missing residues or insertions. All these identified broken chains are stored in info.broken object. This list is used in the subsequent function that extracts the shared CA region. But before we do that we should take a look at the alignment file. \n",
    "\n",
    "Altough the assemblies with broken chains will be skipped, the CA coordinates and the FASTA alignment information of those are kept. For example from the fasta alignment file, we saw that chain S in 4NPQ PDB file, assembly 4 has two missing residues. But the rest of the structures in this assembly is intact. Because there are not many \"possible closed state\" structures of GLIC, we decided to repair this assembly. You can use the example MODELLER script to rebuild those missing residues. After you have fixed the structure you should follow the steps below:\n",
    "1. Modify the info.broken object to exclude that chain. \n",
    "2. You must also add it back to the info.coreresids and info.coremer.\n",
    "3. You must rename the final, fixed file to it's original 4NPQ_4.pdb"
   ]
  },
  {
   "cell_type": "markdown",
   "metadata": {},
   "source": [
    "Now that we have all the structures we want to use ready, and the list of broken structures is updated we can move on to the next step to extract the common residues. As you can see for GLIC some files does not have the initial valine and serine residues ın the N termini. Some of the structures also have a missing residue in the C termini. The function below, uses the information returned from the msa function above. It finds which residues should be removed from the N and C termini by mapping back the sequence to the residue numbers written to \"_residmap.txt\". \n",
    "The next and the last step is to align the structures."
   ]
  },
  {
   "cell_type": "code",
   "execution_count": 24,
   "metadata": {},
   "outputs": [
    {
     "name": "stdout",
     "output_type": "stream",
     "text": [
      "3TLW_1.pdb\n",
      "2XQ8_1.pdb\n",
      "4LMK_1.pdb\n",
      "5HCM_1.pdb\n",
      "2XQA_1.pdb\n",
      "6HJZ_2.pdb\n",
      "5V6O_1.pdb\n",
      "6F0N_1.pdb\n",
      "6HZW_1.pdb\n",
      "3TLS_1.pdb\n",
      "4HFI_1.pdb\n",
      "4NPP_1.pdb\n",
      "5MZR_1.pdb\n",
      "3EI0_1.pdb\n",
      "6F12_1.pdb\n",
      "6HY9_1.pdb\n",
      "3TLU_1.pdb\n",
      "6F0U_1.pdb\n",
      "6HY5_1.pdb\n",
      "4IL4_1.pdb\n",
      "6F16_1.pdb\n",
      "6HJB_1.pdb\n",
      "3UUB_2.pdb\n",
      "6HYV_1.pdb\n",
      "4F8H_1.pdb\n",
      "6F0M_1.pdb\n",
      "6F13_1.pdb\n",
      "3P50_1.pdb\n",
      "6HJA_1.pdb\n",
      "5NKJ_1.pdb\n",
      "3UU8_1.pdb\n",
      "2XQ6_1.pdb\n",
      "5HEG_1.pdb\n",
      "6HJ3_1.pdb\n",
      "4HFB_1.pdb\n",
      "6F15_1.pdb\n",
      "5J0Z_1.pdb\n",
      "6F11_1.pdb\n",
      "6HYX_1.pdb\n",
      "3TLV_1.pdb\n",
      "4ZZC_1.pdb\n",
      "3UU6_1.pdb\n",
      "6F0V_1.pdb\n",
      "6F0R_1.pdb\n",
      "3UUB_1.pdb\n",
      "3EAM_1.pdb\n",
      "5MZQ_1.pdb\n",
      "4ILC_1.pdb\n",
      "5MZT_1.pdb\n",
      "6HYA_1.pdb\n",
      "6I08_1.pdb\n",
      "6HYR_1.pdb\n",
      "6HPP_1.pdb\n",
      "5MVN_1.pdb\n",
      "6F0Z_1.pdb\n",
      "4HFC_1.pdb\n",
      "5L47_1.pdb\n",
      "5HEH_1.pdb\n",
      "2XQ5_1.pdb\n",
      "3UU5_1.pdb\n",
      "4HFE_1.pdb\n",
      "6HZ1_1.pdb\n",
      "6F0J_1.pdb\n",
      "4LMJ_1.pdb\n",
      "3EHZ_1.pdb\n",
      "4NPQ_4.pdb\n",
      "4LML_1.pdb\n",
      "5NJY_1.pdb\n",
      "5MUO_1.pdb\n",
      "5V6N_1.pdb\n",
      "6HJI_1.pdb\n",
      "4ZZB_1.pdb\n",
      "4ILB_1.pdb\n",
      "4QH4_1.pdb\n",
      "3UU4_1.pdb\n",
      "4IRE_1.pdb\n",
      "6F7A_1.pdb\n",
      "5HCJ_1.pdb\n",
      "5MVM_1.pdb\n",
      "3TLT_1.pdb\n",
      "4HFD_1.pdb\n",
      "4QH5_1.pdb\n",
      "4NPQ_1.pdb\n",
      "6F0I_1.pdb\n",
      "6HYW_1.pdb\n",
      "5L4H_1.pdb\n",
      "6HJZ_1.pdb\n",
      "2XQ4_1.pdb\n",
      "4IL9_1.pdb\n",
      "5IUX_1.pdb\n",
      "6HYZ_1.pdb\n",
      "2XQ3_1.pdb\n",
      "3LSV_1.pdb\n",
      "6EMX_1.pdb\n",
      "4QH1_1.pdb\n",
      "3P4W_1.pdb\n",
      "5L4E_1.pdb\n",
      "2XQ9_1.pdb\n",
      "2XQ7_1.pdb\n",
      "6HZ0_1.pdb\n",
      "6HZ3_1.pdb\n",
      "6F10_1.pdb\n",
      "5MUR_1.pdb\n",
      "      pdb_name       rmsd                                          universes\n",
      "2   4LMK_1.pdb  25.757103  <MDAnalysis.analysis.align.AlignTraj object at...\n",
      "6   5V6O_1.pdb  25.695505  <MDAnalysis.analysis.align.AlignTraj object at...\n",
      "50  6I08_1.pdb  18.429120  <MDAnalysis.analysis.align.AlignTraj object at...\n",
      "63  4LMJ_1.pdb  25.832274  <MDAnalysis.analysis.align.AlignTraj object at...\n",
      "66  4LML_1.pdb  25.742114  <MDAnalysis.analysis.align.AlignTraj object at...\n",
      "69  5V6N_1.pdb  25.789066  <MDAnalysis.analysis.align.AlignTraj object at...\n"
     ]
    }
   ],
   "source": [
    "from MDAnalysis import Universe\n",
    "from MDAnalysis.analysis import align\n",
    "import pandas as pd\n",
    "\n",
    "def align_get_rmsd(ref_id:str,cwd:Path):\n",
    "    ref = Universe(f\"{cwd}/clean_pdbs/correct_{ref_id}.pdb\")\n",
    "    data = {\"pdb_name\":[],\"rmsd\":[],\"universes\":[]}\n",
    "    for pdb in info.coremer:\n",
    "        if pdb in info.broken:\n",
    "            continue\n",
    "        u=Universe(f\"{cwd}/clean_pdbs/correct_{pdb}\")\n",
    "        print(pdb)\n",
    "        a = align.AlignTraj(u,ref,in_memory=True,strict=True)\n",
    "        a.run()\n",
    "        data[\"pdb_name\"].append(pdb)\n",
    "        data[\"universes\"].append(a)\n",
    "        data[\"rmsd\"].append(a.results.rmsd[0])\n",
    "    data=pd.DataFrame(data)\n",
    "    print(data[data.rmsd > 5])\n",
    "    return data\n",
    "rmsd = align_get_rmsd(\"4NPQ_1\",cwd)"
   ]
  },
  {
   "cell_type": "markdown",
   "metadata": {},
   "source": [
    "As you can see in the above analysis we have quite a few PDB files that show a high RMSD difference to the reference. They are outliers and most of the time you have to examine what's wrong manually in each file and either discard or repair them. GLIC has 5 subunits arranged in counter-clockwise order, usually, however, the PDB files above do not contain chains in the counter-clockwise order and their order needs to be changed."
   ]
  },
  {
   "cell_type": "code",
   "execution_count": 38,
   "metadata": {},
   "outputs": [
    {
     "ename": "IndexError",
     "evalue": "tuple index out of range",
     "output_type": "error",
     "traceback": [
      "\u001b[0;31m---------------------------------------------------------------------------\u001b[0m",
      "\u001b[0;31mIndexError\u001b[0m                                Traceback (most recent call last)",
      "\u001b[0;32m/tmp/ipykernel_14067/4086183198.py\u001b[0m in \u001b[0;36m<module>\u001b[0;34m\u001b[0m\n\u001b[1;32m      3\u001b[0m \u001b[0mreload\u001b[0m \u001b[0;34m(\u001b[0m\u001b[0mch\u001b[0m\u001b[0;34m)\u001b[0m\u001b[0;34m\u001b[0m\u001b[0;34m\u001b[0m\u001b[0m\n\u001b[1;32m      4\u001b[0m \u001b[0;34m\u001b[0m\u001b[0m\n\u001b[0;32m----> 5\u001b[0;31m \u001b[0mprint\u001b[0m\u001b[0;34m(\u001b[0m\u001b[0mch\u001b[0m\u001b[0;34m.\u001b[0m\u001b[0mreorder\u001b[0m\u001b[0;34m(\u001b[0m\u001b[0;34m{\u001b[0m\u001b[0mk\u001b[0m\u001b[0;34m:\u001b[0m\u001b[0mv\u001b[0m \u001b[0;32mfor\u001b[0m \u001b[0mk\u001b[0m\u001b[0;34m,\u001b[0m\u001b[0mv\u001b[0m \u001b[0;32min\u001b[0m \u001b[0minfo\u001b[0m\u001b[0;34m.\u001b[0m\u001b[0mcoremer\u001b[0m\u001b[0;34m.\u001b[0m\u001b[0mitems\u001b[0m\u001b[0;34m(\u001b[0m\u001b[0;34m)\u001b[0m \u001b[0;32mif\u001b[0m \u001b[0mk\u001b[0m \u001b[0;32mnot\u001b[0m \u001b[0;32min\u001b[0m \u001b[0minfo\u001b[0m\u001b[0;34m.\u001b[0m\u001b[0mbroken\u001b[0m\u001b[0;34m}\u001b[0m\u001b[0;34m,\u001b[0m\u001b[0mcwd\u001b[0m\u001b[0;34m/\u001b[0m\u001b[0;34m\"clean_pdbs\"\u001b[0m\u001b[0;34m,\u001b[0m\u001b[0mtag\u001b[0m\u001b[0;34m=\u001b[0m\u001b[0;34m\"correct_\"\u001b[0m\u001b[0;34m)\u001b[0m\u001b[0;34m)\u001b[0m\u001b[0;34m\u001b[0m\u001b[0;34m\u001b[0m\u001b[0m\n\u001b[0m\u001b[1;32m      6\u001b[0m \u001b[0;34m\u001b[0m\u001b[0m\n\u001b[1;32m      7\u001b[0m \u001b[0mrmsd\u001b[0m \u001b[0;34m=\u001b[0m \u001b[0malign_get_rmsd\u001b[0m\u001b[0;34m(\u001b[0m\u001b[0;34m\"4NPQ_1\"\u001b[0m\u001b[0;34m,\u001b[0m\u001b[0mcwd\u001b[0m\u001b[0;34m)\u001b[0m\u001b[0;34m\u001b[0m\u001b[0;34m\u001b[0m\u001b[0m\n",
      "\u001b[0;32m~/software/pdbParser/enspdb/chorder.py\u001b[0m in \u001b[0;36mreorder\u001b[0;34m(id_ch_dict, cwd, tag)\u001b[0m\n\u001b[1;32m    197\u001b[0m         \u001b[0mid_ch_dict\u001b[0m\u001b[0;34m[\u001b[0m\u001b[0mids\u001b[0m\u001b[0;34m]\u001b[0m \u001b[0;34m=\u001b[0m \u001b[0mfrch\u001b[0m\u001b[0;34m\u001b[0m\u001b[0;34m\u001b[0m\u001b[0m\n\u001b[1;32m    198\u001b[0m \u001b[0;34m\u001b[0m\u001b[0m\n\u001b[0;32m--> 199\u001b[0;31m     \u001b[0mneworders\u001b[0m \u001b[0;34m=\u001b[0m \u001b[0mdirection_check\u001b[0m\u001b[0;34m(\u001b[0m\u001b[0muni_list\u001b[0m\u001b[0;34m,\u001b[0m \u001b[0mid_ch_dict\u001b[0m\u001b[0;34m,\u001b[0m \u001b[0mcwd\u001b[0m\u001b[0;34m)\u001b[0m\u001b[0;34m\u001b[0m\u001b[0;34m\u001b[0m\u001b[0m\n\u001b[0m\u001b[1;32m    200\u001b[0m     \u001b[0;32mfor\u001b[0m \u001b[0mids\u001b[0m \u001b[0;32min\u001b[0m \u001b[0muni_list\u001b[0m\u001b[0;34m:\u001b[0m\u001b[0;34m\u001b[0m\u001b[0;34m\u001b[0m\u001b[0m\n\u001b[1;32m    201\u001b[0m         \u001b[0;31m# We could simply loop over neworders improve this part.\u001b[0m\u001b[0;34m\u001b[0m\u001b[0;34m\u001b[0m\u001b[0m\n",
      "\u001b[0;32m~/software/pdbParser/enspdb/chorder.py\u001b[0m in \u001b[0;36mdirection_check\u001b[0;34m(uni_list, chlist, cwd)\u001b[0m\n\u001b[1;32m    162\u001b[0m     \u001b[0mdirections\u001b[0m \u001b[0;34m=\u001b[0m \u001b[0;34m{\u001b[0m\u001b[0;34m}\u001b[0m\u001b[0;34m\u001b[0m\u001b[0;34m\u001b[0m\u001b[0m\n\u001b[1;32m    163\u001b[0m     \u001b[0;32mfor\u001b[0m \u001b[0mids\u001b[0m\u001b[0;34m,\u001b[0m \u001b[0muni\u001b[0m \u001b[0;32min\u001b[0m \u001b[0muni_list\u001b[0m\u001b[0;34m.\u001b[0m\u001b[0mitems\u001b[0m\u001b[0;34m(\u001b[0m\u001b[0;34m)\u001b[0m\u001b[0;34m:\u001b[0m\u001b[0;34m\u001b[0m\u001b[0;34m\u001b[0m\u001b[0m\n\u001b[0;32m--> 164\u001b[0;31m         \u001b[0mdirections\u001b[0m\u001b[0;34m[\u001b[0m\u001b[0mids\u001b[0m\u001b[0;34m]\u001b[0m \u001b[0;34m=\u001b[0m \u001b[0mdirection\u001b[0m\u001b[0;34m(\u001b[0m\u001b[0muni\u001b[0m\u001b[0;34m,\u001b[0m \u001b[0mchlist\u001b[0m\u001b[0;34m[\u001b[0m\u001b[0mids\u001b[0m\u001b[0;34m]\u001b[0m\u001b[0;34m,\u001b[0m \u001b[0mids\u001b[0m\u001b[0;34m,\u001b[0m \u001b[0mcwd\u001b[0m\u001b[0;34m)\u001b[0m\u001b[0;34m\u001b[0m\u001b[0;34m\u001b[0m\u001b[0m\n\u001b[0m\u001b[1;32m    165\u001b[0m     \u001b[0macs\u001b[0m \u001b[0;34m=\u001b[0m \u001b[0mlist\u001b[0m\u001b[0;34m(\u001b[0m\u001b[0mdirections\u001b[0m\u001b[0;34m.\u001b[0m\u001b[0mvalues\u001b[0m\u001b[0;34m(\u001b[0m\u001b[0;34m)\u001b[0m\u001b[0;34m)\u001b[0m\u001b[0;34m.\u001b[0m\u001b[0mcount\u001b[0m\u001b[0;34m(\u001b[0m\u001b[0;34m\"ac\"\u001b[0m\u001b[0;34m)\u001b[0m\u001b[0;34m\u001b[0m\u001b[0;34m\u001b[0m\u001b[0m\n\u001b[1;32m    166\u001b[0m     \u001b[0mcs\u001b[0m \u001b[0;34m=\u001b[0m \u001b[0mlist\u001b[0m\u001b[0;34m(\u001b[0m\u001b[0mdirections\u001b[0m\u001b[0;34m.\u001b[0m\u001b[0mvalues\u001b[0m\u001b[0;34m(\u001b[0m\u001b[0;34m)\u001b[0m\u001b[0;34m)\u001b[0m\u001b[0;34m.\u001b[0m\u001b[0mcount\u001b[0m\u001b[0;34m(\u001b[0m\u001b[0;34m\"c\"\u001b[0m\u001b[0;34m)\u001b[0m\u001b[0;34m\u001b[0m\u001b[0;34m\u001b[0m\u001b[0m\n",
      "\u001b[0;32m~/software/pdbParser/enspdb/chorder.py\u001b[0m in \u001b[0;36mdirection\u001b[0;34m(ca, chains, ids, cwd)\u001b[0m\n\u001b[1;32m    112\u001b[0m     \"\"\"\n\u001b[1;32m    113\u001b[0m     \u001b[0mxyz\u001b[0m \u001b[0;34m=\u001b[0m \u001b[0mnp\u001b[0m\u001b[0;34m.\u001b[0m\u001b[0marray\u001b[0m\u001b[0;34m(\u001b[0m\u001b[0matom\u001b[0m\u001b[0;34m.\u001b[0m\u001b[0mcoord\u001b[0m \u001b[0;32mfor\u001b[0m \u001b[0matom\u001b[0m \u001b[0;32min\u001b[0m \u001b[0mca\u001b[0m\u001b[0;34m.\u001b[0m\u001b[0mget_atoms\u001b[0m\u001b[0;34m(\u001b[0m\u001b[0;34m)\u001b[0m\u001b[0;34m)\u001b[0m\u001b[0;34m\u001b[0m\u001b[0;34m\u001b[0m\u001b[0m\n\u001b[0;32m--> 114\u001b[0;31m     \u001b[0mxyz\u001b[0m \u001b[0;34m=\u001b[0m \u001b[0malign_i_to_axes\u001b[0m\u001b[0;34m(\u001b[0m\u001b[0mxyz\u001b[0m\u001b[0;34m)\u001b[0m\u001b[0;34m\u001b[0m\u001b[0;34m\u001b[0m\u001b[0m\n\u001b[0m\u001b[1;32m    115\u001b[0m     \u001b[0;32mfor\u001b[0m \u001b[0mind\u001b[0m\u001b[0;34m,\u001b[0m \u001b[0matom\u001b[0m \u001b[0;32min\u001b[0m \u001b[0menumerate\u001b[0m\u001b[0;34m(\u001b[0m\u001b[0mca\u001b[0m\u001b[0;34m.\u001b[0m\u001b[0mget_atoms\u001b[0m\u001b[0;34m(\u001b[0m\u001b[0;34m)\u001b[0m\u001b[0;34m)\u001b[0m\u001b[0;34m:\u001b[0m\u001b[0;34m\u001b[0m\u001b[0;34m\u001b[0m\u001b[0m\n\u001b[1;32m    116\u001b[0m         atom.coord = np.array(\n",
      "\u001b[0;32m~/software/pdbParser/enspdb/chorder.py\u001b[0m in \u001b[0;36malign_i_to_axes\u001b[0;34m(xyz, axis, unit, m)\u001b[0m\n\u001b[1;32m     92\u001b[0m     \"\"\"\n\u001b[1;32m     93\u001b[0m     \u001b[0mm\u001b[0m \u001b[0;34m=\u001b[0m \u001b[0mnp\u001b[0m\u001b[0;34m.\u001b[0m\u001b[0mfloat\u001b[0m\u001b[0;34m(\u001b[0m\u001b[0mm\u001b[0m\u001b[0;34m)\u001b[0m\u001b[0;34m\u001b[0m\u001b[0;34m\u001b[0m\u001b[0m\n\u001b[0;32m---> 94\u001b[0;31m     \u001b[0mtotm\u001b[0m \u001b[0;34m=\u001b[0m \u001b[0mm\u001b[0m \u001b[0;34m*\u001b[0m \u001b[0mxyz\u001b[0m\u001b[0;34m.\u001b[0m\u001b[0mshape\u001b[0m\u001b[0;34m[\u001b[0m\u001b[0;36m0\u001b[0m\u001b[0;34m]\u001b[0m\u001b[0;34m\u001b[0m\u001b[0;34m\u001b[0m\u001b[0m\n\u001b[0m\u001b[1;32m     95\u001b[0m     \u001b[0mcoms\u001b[0m \u001b[0;34m=\u001b[0m \u001b[0mcom\u001b[0m\u001b[0;34m(\u001b[0m\u001b[0mxyz\u001b[0m\u001b[0;34m,\u001b[0m \u001b[0mm\u001b[0m\u001b[0;34m,\u001b[0m \u001b[0mtotm\u001b[0m\u001b[0;34m)\u001b[0m\u001b[0;34m\u001b[0m\u001b[0;34m\u001b[0m\u001b[0m\n\u001b[1;32m     96\u001b[0m     \u001b[0mI\u001b[0m \u001b[0;34m=\u001b[0m \u001b[0minertia\u001b[0m\u001b[0;34m(\u001b[0m\u001b[0mxyz\u001b[0m\u001b[0;34m,\u001b[0m \u001b[0mcoms\u001b[0m\u001b[0;34m,\u001b[0m \u001b[0mm\u001b[0m\u001b[0;34m)\u001b[0m\u001b[0;34m\u001b[0m\u001b[0;34m\u001b[0m\u001b[0m\n",
      "\u001b[0;31mIndexError\u001b[0m: tuple index out of range"
     ]
    }
   ],
   "source": [
    "from enspdb import chorder as ch\n",
    "from importlib import reload\n",
    "reload (ch)\n",
    "\n",
    "print(ch.reorder({k:v for k,v in info.coremer.items() if k not in info.broken},cwd/\"clean_pdbs\",tag=\"correct_\"))\n",
    "\n",
    "rmsd = align_get_rmsd(\"4NPQ_1\",cwd)"
   ]
  },
  {
   "cell_type": "code",
   "execution_count": 34,
   "metadata": {},
   "outputs": [
    {
     "name": "stderr",
     "output_type": "stream",
     "text": [
      "/home/ozyo/.local/lib/python3.9/site-packages/MDAnalysis/coordinates/PDB.py:429: UserWarning: 1 A^3 CRYST1 record, this is usually a placeholder. Unit cell dimensions will be set to None.\n",
      "  warnings.warn(\"1 A^3 CRYST1 record,\"\n",
      "/home/ozyo/.local/lib/python3.9/site-packages/MDAnalysis/coordinates/base.py:892: UserWarning: Reader has no dt information, set to 1.0 ps\n",
      "  warnings.warn(\"Reader has no dt information, set to 1.0 ps\")\n",
      "/home/ozyo/.local/lib/python3.9/site-packages/MDAnalysis/coordinates/PDB.py:747: UserWarning: Unit cell dimensions not found. CRYST1 record set to unitary values.\n",
      "  warnings.warn(\"Unit cell dimensions not found. \"\n"
     ]
    },
    {
     "data": {
      "text/html": [
       "<div>\n",
       "<style scoped>\n",
       "    .dataframe tbody tr th:only-of-type {\n",
       "        vertical-align: middle;\n",
       "    }\n",
       "\n",
       "    .dataframe tbody tr th {\n",
       "        vertical-align: top;\n",
       "    }\n",
       "\n",
       "    .dataframe thead th {\n",
       "        text-align: right;\n",
       "    }\n",
       "</style>\n",
       "<table border=\"1\" class=\"dataframe\">\n",
       "  <thead>\n",
       "    <tr style=\"text-align: right;\">\n",
       "      <th></th>\n",
       "      <th>pdb_name</th>\n",
       "      <th>rmsd</th>\n",
       "      <th>universes</th>\n",
       "    </tr>\n",
       "  </thead>\n",
       "  <tbody>\n",
       "    <tr>\n",
       "      <th>2</th>\n",
       "      <td>4LMK_1.pdb</td>\n",
       "      <td>25.757104</td>\n",
       "      <td>&lt;Universe with 1540 atoms&gt;</td>\n",
       "    </tr>\n",
       "    <tr>\n",
       "      <th>6</th>\n",
       "      <td>5V6O_1.pdb</td>\n",
       "      <td>25.695513</td>\n",
       "      <td>&lt;Universe with 1540 atoms&gt;</td>\n",
       "    </tr>\n",
       "    <tr>\n",
       "      <th>50</th>\n",
       "      <td>6I08_1.pdb</td>\n",
       "      <td>18.429112</td>\n",
       "      <td>&lt;Universe with 1540 atoms&gt;</td>\n",
       "    </tr>\n",
       "    <tr>\n",
       "      <th>63</th>\n",
       "      <td>4LMJ_1.pdb</td>\n",
       "      <td>25.832275</td>\n",
       "      <td>&lt;Universe with 1540 atoms&gt;</td>\n",
       "    </tr>\n",
       "    <tr>\n",
       "      <th>66</th>\n",
       "      <td>4LML_1.pdb</td>\n",
       "      <td>25.742117</td>\n",
       "      <td>&lt;Universe with 1540 atoms&gt;</td>\n",
       "    </tr>\n",
       "    <tr>\n",
       "      <th>69</th>\n",
       "      <td>5V6N_1.pdb</td>\n",
       "      <td>25.789068</td>\n",
       "      <td>&lt;Universe with 1540 atoms&gt;</td>\n",
       "    </tr>\n",
       "  </tbody>\n",
       "</table>\n",
       "</div>"
      ],
      "text/plain": [
       "      pdb_name       rmsd                   universes\n",
       "2   4LMK_1.pdb  25.757104  <Universe with 1540 atoms>\n",
       "6   5V6O_1.pdb  25.695513  <Universe with 1540 atoms>\n",
       "50  6I08_1.pdb  18.429112  <Universe with 1540 atoms>\n",
       "63  4LMJ_1.pdb  25.832275  <Universe with 1540 atoms>\n",
       "66  4LML_1.pdb  25.742117  <Universe with 1540 atoms>\n",
       "69  5V6N_1.pdb  25.789068  <Universe with 1540 atoms>"
      ]
     },
     "execution_count": 34,
     "metadata": {},
     "output_type": "execute_result"
    }
   ],
   "source": [
    "from enspdb import chorder as ch\n",
    "reload(ch)\n",
    "forced={'4LMK_1.pdb':[\"A\",\"E\",\"D\",\"C\",\"B\"],'4LML_1.pdb':[\"A\",\"C\",\"B\",\"E\",\"D\"],'5V6N_1.pdb':[\"A\",\"E\",\"D\",\"C\",\"B\"],'4LMJ_1.pdb':['A','E','D','C','B']}\n",
    "ch.forceorder({k:v for k,v in info.coremer.items() if k not in info.broken},cwd/\"clean_pdbs\",ordlist=['5V6N_1.pdb','4LML_1.pdb','4LMK_1.pdb','4LMJ_1.pdb'],tag=\"correct_\",forordict=forced, alph=False)\n",
    "ch.forceorder({k:v for k,v in info.coremer.items() if k not in info.broken},cwd/\"clean_pdbs\",ordlist=['5V6O_1.pdb','6I08_1.pdb','4LMJ_1.pdb'],tag=\"correct_\", alph=True)\n",
    "ref = Universe(\"glic_test/clean_pdbs/correct_4NPQ_1.pdb\")\n",
    "data = {\"pdb_name\":[],\"rmsd\":[],\"universes\":[]}\n",
    "for pdb in info.coremer:\n",
    "    if pdb in info.broken:\n",
    "        continue\n",
    "    u=Universe(f\"glic_test/clean_pdbs/correct_{pdb}\")\n",
    "    a = align.AlignTraj(u,ref,in_memory=True)\n",
    "    a.run()\n",
    "    u.select_atoms(\"all\").write(f\"glic_test/clean_pdbs/correct_{pdb}\")\n",
    "    data[\"pdb_name\"].append(pdb)\n",
    "    data[\"universes\"].append(u)\n",
    "    data[\"rmsd\"].append(a.results.rmsd[0])\n",
    "data=pd.DataFrame(data)\n",
    "data[data.rmsd > 5]"
   ]
  },
  {
   "cell_type": "markdown",
   "metadata": {},
   "source": [
    "### Structure Alignment\n",
    "Since we have extracted a common region, and CA coordinates only, all the structures have the same number of atoms. Regardless of the point mutations and the absolute residue number differences we can use almost any alignment tool to superimpose them. For this step you can use your favorite visualizer. In fact it is a good idea to look at the ensemble, and check each structure individually. For example some GLIC structures have a different subunit placement: anticlockwise vs. clockwise. This makes it impossible to superimpose. To fix this issue you could reorder and rename the chains so that the placement matches the rest of the ensemble.\n",
    "\n",
    "When you are finished the alignment of the structures, all you need to do is to combine them, then your ensemble is ready for uploading to the server.Since eBDIMs requires MODEL and END lines in the beginning and the end of the file, you can use a bash loop similar to this to combine them. Since all the structures have the same number of atoms, you can do the alignment with this combined file rather then individual files."
   ]
  },
  {
   "cell_type": "code",
   "execution_count": 37,
   "metadata": {},
   "outputs": [],
   "source": [
    "%%bash\n",
    "touch glic_test/GLIC_ensemble.pdb\n",
    "for pdb in `ls -1 glic_test/clean_pdbs/correct*pdb`\n",
    "do\n",
    "echo \"MODEL\" >> glic_test/GLIC_ensemble.pdb\n",
    "cat $pdb >> glic_test/GLIC_ensemble.pdb\n",
    "echo \"END\" >> glic_test/GLIC_ensemble.pdb\n",
    "done"
   ]
  },
  {
   "cell_type": "markdown",
   "metadata": {},
   "source": [
    "<table><tr>\n",
    "<td> <img src=\"img/side.png\" alt=\"Drawing\" style=\"width: 100%;\"/> </td>\n",
    "<td> <img src=\"img/top.png\" alt=\"Drawing\" style=\"width: 100%;\"/> </td>\n",
    "</tr></table>"
   ]
  },
  {
   "cell_type": "markdown",
   "metadata": {},
   "source": [
    "If you have any questions do not hesitate to contact us. enspdb, ensemble preperation is a package being developed. Watch out for new features on [github](https://github.com/ozyo/enspdb)"
   ]
  }
 ],
 "metadata": {
  "interpreter": {
   "hash": "f9f85f796d01129d0dd105a088854619f454435301f6ffec2fea96ecbd9be4ac"
  },
  "kernelspec": {
   "display_name": "Python 3.9.6 64-bit",
   "name": "python3"
  },
  "language_info": {
   "codemirror_mode": {
    "name": "ipython",
    "version": 3
   },
   "file_extension": ".py",
   "mimetype": "text/x-python",
   "name": "python",
   "nbconvert_exporter": "python",
   "pygments_lexer": "ipython3",
   "version": "3.9.12"
  }
 },
 "nbformat": 4,
 "nbformat_minor": 2
}
