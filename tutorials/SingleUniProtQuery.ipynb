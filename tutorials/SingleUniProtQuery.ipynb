{
 "cells": [
  {
   "cell_type": "markdown",
   "source": [
    "## INTRODUCTION\n",
    "  In Orellana *et al.* 2016, we have used all the crystal structures of a protein to create an ensemble. What we call an ensemble in this article is a set of structures that are not chimeric, represent the whole protein rather than a single domain of it, and do not contain more than 5 consecutive non-terminal missing residues. As much as we would like to automate this process, preparation of an ensemble often requires manual intervention due to problems like, chimeric constructs or the placement of subunits (clockwise vs. anticlockwise). There is also a decision to be made whether to exclude a structure that has non-terminal missing residues.\n",
    "  \n",
    "  While preparing the ensembles for this article, we have taken care of those problems manually and made a decision to repair the structures  if it was known to represent an important state which does not have any other representatives. Altough it very much depends on the state structure, and the location of the missing residues, we recommend repairing structures with only less than 5 consecutive residues missing. There is an example modeller script that can be used for this.  It is upto the user to fix and include them in the ensemble later.\n",
    "  \n",
    "  This tutorial will be using GLIC as an example. Because this was the most challenging ensemble we prepared, it highlights most of the issues the users are likely to encounter. "
   ],
   "metadata": {}
  },
  {
   "cell_type": "markdown",
   "source": [
    "## HOW TO\n",
    "### Requirements\n",
    "Before we get started make sure you have installed the pdbParser package, or you are running this notebook in a place where pdbParser is the subfolder. You will find the other required python packages within [github](https://github.com/ozyo/pdbParser) README.md\n",
    "\n",
    "To determine the missing residues, pdbParser relies on sequence alignment. If you use pdbParser to prepare a start and an end structure for eBDIMs then the alignment is generated via BioPython. However if you are preparing an ensemble you must install Clustal Omega or run the provided fasta sequence through a multiple sequence alignment tool and save the alignment in fasta format. The installation of Clustal Omega can easily be done via conda. After you install it you should provide the full path for the clustal executable.\n",
    "\n",
    "Altough not a requirement, if you want to fix any broken structures you will need a modelling program. We have provided an example script for MODELLER."
   ],
   "metadata": {}
  },
  {
   "cell_type": "markdown",
   "source": [
    "### Obtaining PDB Files\n",
    "  It can be daunting to find all the available PDB files, and the chains that actually belongs to your protein. The easiset way to do this is to go through the UniProtKB database and pdbParser requires the UniProt ID to prepare the ensemble. \n",
    "  ![title](img/uniprot_ini_search.png)\n",
    "  \n",
    "After finding the UniProt ID you can run the commands below to gather information. Besides the UniProt ID, you also have to provide the total number of chains that are in a biological assembly. Heteromeric structures require a different routine which are not yet supported in pdbParser. However similar logic applies in preperation of such an ensemble that only the shared CA coordinates should be kept, any broken structures should be fixed or excluded.\n",
    "\n",
    "You should also provide a folder that exits for inputs/outputs to be read/written. If you use \".\" This will take the current directory for outputs."
   ],
   "metadata": {}
  },
  {
   "cell_type": "code",
   "execution_count": 18,
   "source": [
    "from pathlib import Path\n",
    "query='Q7NDN8' #UniPortKB ID\n",
    "mer=5 #Total number of chains\n",
    "cwd=Path(\"glic_test\") #This directory must exist\n",
    "cwd.mkdir(exist_ok=True)\n",
    "exclude=None #[List of PDB IDs] \n",
    "#If you already know some structures you want to exclude provide them as a list. "
   ],
   "outputs": [],
   "metadata": {}
  },
  {
   "cell_type": "code",
   "execution_count": 19,
   "source": [
    "from pdbParser.prep_ensemble import PDBInfo\n",
    "info=PDBInfo(query,mer,exclude=exclude) #Add the exclude argument to the end."
   ],
   "outputs": [
    {
     "output_type": "stream",
     "name": "stderr",
     "text": [
      "CRITICAL:root:Cannot process PDB id 3IGQ. It does not contain a complete set\n"
     ]
    }
   ],
   "metadata": {}
  },
  {
   "cell_type": "markdown",
   "source": [
    "PDBInfo function goes into the UniProt page of the given ID, and retrives the 3D structures table (as seen in figure below) and the reference sequence to be used for the alignment. For the reasons below it is much easier to prepare the ensemble via a database like UniProtKB:\n",
    "* Because there is a possiblity of all the structures having the same missing residues, the reference sequence is a good control to have. \n",
    "* Within 3D structure table, only the ones with the label \"X-ray\" are downloaded. Currently we don't support multi-model pdb files.\n",
    "* The relevant chains for this protein is also extracted from this table, this is much easier than reading PDB headers.\n",
    "\n",
    "In the example above, you already see that 3IGQ structure is skipped. That is because this file had 6 subunits vs. 5. If you go into the RCSB Database and look at this structure you will see that it contains only the extracellular domain and not the whole structure. To our advantage this one had more subunits than we required, so it is eliminated early on.\n",
    "\n",
    "![title](img/uniprot_3dtable.png)"
   ],
   "metadata": {}
  },
  {
   "cell_type": "markdown",
   "source": [
    "  After the information is gathered, info object is populated with the possible structures to be used and the reference sequence. You can reach the list via commands below. If you want to manipulate this list, add or remove structures, or change the reference sequence you can do so at this stage. Please not that all the functions in prepENS module uses and modifes this class directly."
   ],
   "metadata": {}
  },
  {
   "cell_type": "code",
   "execution_count": 20,
   "source": [
    "info.query #UniPort ID used to initialize this class\n",
    "#and it is also used for the output names.\n",
    "print(info.mer) # Total number of chains\n",
    "print(info.result) #Contains the information from the 3D structures table.\n",
    "print(info.refseq) #Contains the reference sequence. "
   ],
   "outputs": [
    {
     "output_type": "stream",
     "name": "stdout",
     "text": [
      "5\n",
      "{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}\n",
      "b'MFPTGWRPKLSESIAASRMLWQPMAAVAVVQIGLLWFSPPVWGQDMVSPPPPIADEPLTVNTGIYLIECYSLDDKAETFKVNAFLSLSWKDRRLAFDPVRSGVRVKTYEPEAIWIPEIRFVNVENARDADVVDISVSPDGTVQYLERFSARVLSPLDFRRYPFDSQTLHIYLIVRSVDTRNIVLAVDLEKVGKNDDVFLTGWDIESFTAVVKPANFALEDRLESKLDYQLRISRQYFSYIPNIILPMLFILFISWTAFWSTSYEANVTLVVSTLIAHIAFNILVETNLPKTPYMTYTGAIIFMIYLFYFVAVIEVTVQHYLKVESQPARAASITRASRIAFPVVFLLANIILAFLFFGF\\n'\n"
     ]
    }
   ],
   "metadata": {
    "scrolled": true
   }
  },
  {
   "cell_type": "markdown",
   "source": [
    "  The next command downloads the structures from the RCSB database. Depending on the number of structures this function might take a while to finish because after it downloads the files it goes through the steps below to clean them:\n",
    "  1. It checks for lines with TITLE to find the chimeric structures.\n",
    "  2. It seperates the biological assemblies within the same PDB file\n",
    "  3. It keeps only the CA coordinates, which are the only relevant atoms for comparison with eBDIMs trajectories. Obtaining only CA coordinates is also a way to clean the PDB files from bound ligands, ions, waters, etc.\n",
    "  4. It extracts the sequence and the residue numbering from the CA coordinates and writes them to text files.\n",
    "\n",
    "pdbParser relies on multiple sequence alignment to determine the missing residues. This also allows us to ignore the differences in residue numbering between different structures, non-consecutive numbering. The residue numbering information is only used to extract the residues from the the PDB file itself. \n",
    "The sequence for the alignment is extracted from CA coordinates, rather than PDB header. Because a residue might have missing CA coordinate, despite being listed in the sequence records.\n",
    "\n",
    "  In the example below you see that there are more warnings, stating that more structures will be excluded from the ensemble because they are chimeras. The function checks for two keywords in the title 'CHIMERA' and 'FUSED'. Since these structures cannot be used, their information is removed from the info.result dictionary automatically and those files are deleted."
   ],
   "metadata": {}
  },
  {
   "cell_type": "code",
   "execution_count": 21,
   "source": [
    "info.downloadPDB(cwd)\n",
    "info.process_pdbs(cwd)"
   ],
   "outputs": [
    {
     "output_type": "stream",
     "name": "stderr",
     "text": [
      "CRITICAL:root:PDB ID 4X5T cannot be processed, possibly a chimera, skipping this file\n",
      "CRITICAL:root:PDB ID 4YEU cannot be processed, possibly a chimera, skipping this file\n",
      "CRITICAL:root:PDB ID 5OSA cannot be processed, possibly a chimera, skipping this file\n",
      "CRITICAL:root:PDB ID 5OSB cannot be processed, possibly a chimera, skipping this file\n",
      "CRITICAL:root:PDB ID 5OSC cannot be processed, possibly a chimera, skipping this file\n"
     ]
    }
   ],
   "metadata": {}
  },
  {
   "cell_type": "markdown",
   "source": [
    "### Multiple Sequence Alignment and Identification of the Shared Region\n",
    "If you check the output folder, you will find two text files: \"_seq.txt\" and \"_residmap.txt\". We need the information within these files for the multiple sequence alignment and the subsequent cleaning of the terminal residues that are not shared between the structures. It is possible that some structures still contain a terminal tag, that would interfere with the alignment and introduce unncessary gaps. Any chain that contains a non-terminal gap at this stage is marked as broken and the assembly they belong to is skipped.\n",
    "\n",
    "  If you chose to run the alignment somwhere else, you must clean any headers that is written to it. And the names in the fasta header must be in the same format as in the example file in this tutorial. The alignment should also contain a reference sequence with a header refseq. When you run the function below with the argument alnf=\"alignmentfile.fasta\" , it will only go through the file to determine the broken chains. It does not run clustal, so you don't have to provide it. The alignment file must be placed where *cwd* is set to."
   ],
   "metadata": {}
  },
  {
   "cell_type": "code",
   "execution_count": 22,
   "source": [
    "clustalopath=\"/home/ozyo/.local/bin/clustalo-1.2.4-Ubuntu-x86_64\"\n",
    "info.msa(cwd,clustalopath)"
   ],
   "outputs": [
    {
     "output_type": "stream",
     "name": "stderr",
     "text": [
      "ERROR:root:3UU3_1.pdb|A| contains insertions or missing residues, skipping this chain and the assembly it belongs to.\n",
      "ERROR:root:3UU3_1.pdb|B| contains insertions or missing residues, skipping this chain and the assembly it belongs to.\n",
      "ERROR:root:3UU3_1.pdb|C| contains insertions or missing residues, skipping this chain and the assembly it belongs to.\n",
      "ERROR:root:3UU3_1.pdb|D| contains insertions or missing residues, skipping this chain and the assembly it belongs to.\n",
      "ERROR:root:3UU3_1.pdb|E| contains insertions or missing residues, skipping this chain and the assembly it belongs to.\n",
      "ERROR:root:4ILA_1.pdb|E| contains insertions or missing residues, skipping this chain and the assembly it belongs to.\n",
      "ERROR:root:4NPQ_2.pdb|H| contains insertions or missing residues, skipping this chain and the assembly it belongs to.\n",
      "ERROR:root:4NPQ_2.pdb|I| contains insertions or missing residues, skipping this chain and the assembly it belongs to.\n",
      "ERROR:root:4NPQ_3.pdb|K| contains insertions or missing residues, skipping this chain and the assembly it belongs to.\n",
      "ERROR:root:4NPQ_3.pdb|L| contains insertions or missing residues, skipping this chain and the assembly it belongs to.\n",
      "ERROR:root:4NPQ_3.pdb|M| contains insertions or missing residues, skipping this chain and the assembly it belongs to.\n",
      "ERROR:root:4NPQ_4.pdb|S| contains insertions or missing residues, skipping this chain and the assembly it belongs to.\n",
      "ERROR:root:6HYR_1.pdb|A| contains insertions or missing residues, skipping this chain and the assembly it belongs to.\n",
      "ERROR:root:6HYR_1.pdb|B| contains insertions or missing residues, skipping this chain and the assembly it belongs to.\n",
      "ERROR:root:6HYR_1.pdb|C| contains insertions or missing residues, skipping this chain and the assembly it belongs to.\n",
      "ERROR:root:6HYR_1.pdb|D| contains insertions or missing residues, skipping this chain and the assembly it belongs to.\n",
      "ERROR:root:6HYR_1.pdb|E| contains insertions or missing residues, skipping this chain and the assembly it belongs to.\n"
     ]
    }
   ],
   "metadata": {}
  },
  {
   "cell_type": "markdown",
   "source": [
    "The function is a class method, thus we don't need to any arguments to it, only the path to the clustal omega executable. So if you need to change names of the sequence file, for example, you can do so by modifying the class object directly, info.seqfilename is mutable. If you need to add or delete chains/structures you must modify both the text files and the info.result dictionary. You will see an example below\n",
    "\n",
    "As you see above there are quite a few chains that have missing residues or insertions. All these identified broken chains are stored in info.broken object. This list is used in the subsequent function that extracts the shared CA region. But before we do that we should take a look at the alignment file. \n",
    "\n",
    "Altough the assemblies with broken chains will be skipped, the CA coordinates and the FASTA alignment information of those are kept. For example from the fasta alignment file, we saw that chain S in 4NPQ PDB file, assembly 4 has two missing residues. But the rest of the structures in this assembly is intact. Because there are not many \"possible closed state\" structures of GLIC, we decided to repair this assembly. You can use the example MODELLER script to rebuild those missing residues. After you have fixed the structure you should follow the steps below:\n",
    "1. Modify the info.broken object to exclude that chain. \n",
    "2. You must also add it back to the info.coreresids and info.coremer.\n",
    "3. You must rename the final, fixed file to it's original 4NPQ_4.pdb"
   ],
   "metadata": {}
  },
  {
   "cell_type": "code",
   "execution_count": 23,
   "source": [
    "#%cd clean_pdbs\n",
    "#%cp ../../fix_model.py ../../myloop.py ../../seg.ali .\n",
    "#%run -i 'fix_model.py' #You have to modify the contents of this file if you are working on your own example.\n",
    "#%cp 4NPQ_4_fixed.pdb 4NPQ_4.pdb \n",
    "info.broken.remove('4NPQ_4.pdb')\n",
    "#Python indexing starts from 0\n",
    "chains=info.result['4NPQ'][1][3] \n",
    "#Chain informations are the 2nd element and within that list the 4th ensemble. \n",
    "info.coremer['4NPQ_4.pdb']=chains\n",
    "info.coreresids['4NPQ_4.pdb|S|']=info.coreresids['4NPQ_4.pdb|T|'] \n",
    "#Since this is a homopentamer, I have just used the information from other chain to set the residue numbers for |S|"
   ],
   "outputs": [],
   "metadata": {}
  },
  {
   "cell_type": "markdown",
   "source": [
    "Now that we have all the structures we want to use ready, and the list of broken structures is updated we can move on to the next step to extract the common residues. As you can see for GLIC some files does not have the initial valine and serine residues ın the N termini. Some of the structures also have a missing residue in the C termini. The function below, uses the information returned from the msa function above. It finds which residues should be removed from the N and C termini by mapping back the sequence to the residue numbers written to \"_residmap.txt\". \n",
    "The next and the last step is to align the structures."
   ],
   "metadata": {}
  },
  {
   "cell_type": "code",
   "execution_count": 60,
   "source": [
    "info.getcore(cwd)"
   ],
   "outputs": [
    {
     "output_type": "stream",
     "name": "stderr",
     "text": [
      "WARNING:root:File does not exist: 6F0N_1.pdb skipped\n",
      "WARNING:root:File does not exist: 4HFH_1.pdb skipped\n",
      "WARNING:root:File does not exist: 2XQ3_1.pdb skipped\n",
      "WARNING:root:File does not exist: 3TLU_1.pdb skipped\n",
      "WARNING:root:File does not exist: 6HYV_1.pdb skipped\n",
      "WARNING:root:File does not exist: 4LMJ_1.pdb skipped\n",
      "WARNING:root:File does not exist: 5HEG_1.pdb skipped\n",
      "WARNING:root:File does not exist: 2XQ4_1.pdb skipped\n",
      "WARNING:root:File does not exist: 4HFB_1.pdb skipped\n",
      "WARNING:root:File does not exist: 6HJZ_2.pdb skipped\n",
      "WARNING:root:File does not exist: 3TLS_1.pdb skipped\n",
      "WARNING:root:File does not exist: 6HPP_1.pdb skipped\n",
      "WARNING:root:File does not exist: 6F0V_1.pdb skipped\n",
      "WARNING:root:File does not exist: 3EHZ_1.pdb skipped\n",
      "WARNING:root:File does not exist: 6HZ0_1.pdb skipped\n",
      "WARNING:root:File does not exist: 5NJY_1.pdb skipped\n",
      "WARNING:root:File does not exist: 6F12_1.pdb skipped\n",
      "WARNING:root:File does not exist: 2XQ8_1.pdb skipped\n",
      "WARNING:root:File does not exist: 2XQA_1.pdb skipped\n",
      "WARNING:root:File does not exist: 6HZ3_1.pdb skipped\n",
      "WARNING:root:File does not exist: 6HYZ_1.pdb skipped\n",
      "WARNING:root:File does not exist: 4HFE_1.pdb skipped\n",
      "WARNING:root:File does not exist: 6F0Z_1.pdb skipped\n",
      "WARNING:root:File does not exist: 4QH5_1.pdb skipped\n",
      "WARNING:root:File does not exist: 4NPQ_1.pdb skipped\n",
      "WARNING:root:File does not exist: 6EMX_1.pdb skipped\n",
      "WARNING:root:File does not exist: 6HYW_1.pdb skipped\n",
      "WARNING:root:File does not exist: 6F15_1.pdb skipped\n",
      "WARNING:root:File does not exist: 3LSV_1.pdb skipped\n",
      "WARNING:root:File does not exist: 6F0I_1.pdb skipped\n",
      "WARNING:root:File does not exist: 6F0M_1.pdb skipped\n",
      "WARNING:root:File does not exist: 6F11_1.pdb skipped\n",
      "WARNING:root:File does not exist: 6F0J_1.pdb skipped\n",
      "WARNING:root:File does not exist: 3TLT_1.pdb skipped\n",
      "WARNING:root:File does not exist: 5NKJ_1.pdb skipped\n",
      "WARNING:root:File does not exist: 6HY9_1.pdb skipped\n",
      "WARNING:root:File does not exist: 6HYX_1.pdb skipped\n",
      "WARNING:root:File does not exist: 5HEH_1.pdb skipped\n",
      "WARNING:root:File does not exist: 4QH4_1.pdb skipped\n",
      "WARNING:root:File does not exist: 3UU6_1.pdb skipped\n",
      "WARNING:root:File does not exist: 6F0R_1.pdb skipped\n",
      "WARNING:root:File does not exist: 5MUR_1.pdb skipped\n",
      "WARNING:root:File does not exist: 6F13_1.pdb skipped\n",
      "WARNING:root:File does not exist: 5L47_1.pdb skipped\n",
      "WARNING:root:File does not exist: 5MZT_1.pdb skipped\n",
      "WARNING:root:File does not exist: 5IUX_1.pdb skipped\n",
      "WARNING:root:File does not exist: 5HCJ_1.pdb skipped\n",
      "WARNING:root:File does not exist: 6HZ1_1.pdb skipped\n",
      "WARNING:root:File does not exist: 4ILB_1.pdb skipped\n",
      "WARNING:root:File does not exist: 6HJB_1.pdb skipped\n",
      "WARNING:root:File does not exist: 3EI0_1.pdb skipped\n",
      "WARNING:root:File does not exist: 3P50_1.pdb skipped\n",
      "WARNING:root:File does not exist: 2XQ7_1.pdb skipped\n",
      "WARNING:root:File does not exist: 6HJI_1.pdb skipped\n",
      "WARNING:root:File does not exist: 6I08_1.pdb skipped\n",
      "WARNING:root:File does not exist: 6HYA_1.pdb skipped\n",
      "WARNING:root:File does not exist: 5MVM_1.pdb skipped\n",
      "WARNING:root:File does not exist: 6HJA_1.pdb skipped\n",
      "WARNING:root:File does not exist: 4QH1_1.pdb skipped\n",
      "WARNING:root:File does not exist: 5V6O_1.pdb skipped\n",
      "WARNING:root:File does not exist: 6HY5_1.pdb skipped\n",
      "WARNING:root:File does not exist: 4NPQ_4.pdb skipped\n",
      "WARNING:root:File does not exist: 4IL4_1.pdb skipped\n",
      "WARNING:root:File does not exist: 5J0Z_1.pdb skipped\n",
      "WARNING:root:File does not exist: 3P4W_1.pdb skipped\n",
      "WARNING:root:File does not exist: 4ZZB_1.pdb skipped\n",
      "WARNING:root:File does not exist: 4HFI_1.pdb skipped\n",
      "WARNING:root:File does not exist: 6HZW_1.pdb skipped\n",
      "WARNING:root:File does not exist: 6F16_1.pdb skipped\n",
      "WARNING:root:File does not exist: 5L4H_1.pdb skipped\n",
      "WARNING:root:File does not exist: 3UUB_2.pdb skipped\n",
      "WARNING:root:File does not exist: 6F10_1.pdb skipped\n",
      "WARNING:root:File does not exist: 4HFD_1.pdb skipped\n",
      "WARNING:root:File does not exist: 5MZR_1.pdb skipped\n",
      "WARNING:root:File does not exist: 2XQ5_1.pdb skipped\n",
      "WARNING:root:File does not exist: 5MUO_1.pdb skipped\n",
      "WARNING:root:File does not exist: 2XQ9_1.pdb skipped\n",
      "WARNING:root:File does not exist: 6HJ3_1.pdb skipped\n",
      "WARNING:root:File does not exist: 6F7A_1.pdb skipped\n",
      "WARNING:root:File does not exist: 4IRE_1.pdb skipped\n",
      "WARNING:root:File does not exist: 5L4E_1.pdb skipped\n",
      "WARNING:root:File does not exist: 4NPP_1.pdb skipped\n",
      "WARNING:root:File does not exist: 4HFC_1.pdb skipped\n",
      "WARNING:root:File does not exist: 5MVN_1.pdb skipped\n",
      "WARNING:root:File does not exist: 5HCM_1.pdb skipped\n",
      "WARNING:root:File does not exist: 2XQ6_1.pdb skipped\n",
      "WARNING:root:File does not exist: 3UUB_1.pdb skipped\n",
      "WARNING:root:File does not exist: 4IL9_1.pdb skipped\n",
      "WARNING:root:File does not exist: 3UU5_1.pdb skipped\n",
      "WARNING:root:File does not exist: 3UU8_1.pdb skipped\n",
      "WARNING:root:File does not exist: 4ZZC_1.pdb skipped\n",
      "WARNING:root:File does not exist: 4ILC_1.pdb skipped\n",
      "WARNING:root:File does not exist: 5MZQ_1.pdb skipped\n",
      "WARNING:root:File does not exist: 6HJZ_1.pdb skipped\n",
      "WARNING:root:File does not exist: 3TLW_1.pdb skipped\n",
      "WARNING:root:File does not exist: 3EAM_1.pdb skipped\n",
      "WARNING:root:File does not exist: 3TLV_1.pdb skipped\n",
      "WARNING:root:File does not exist: 6F0U_1.pdb skipped\n",
      "WARNING:root:File does not exist: 4F8H_1.pdb skipped\n",
      "WARNING:root:File does not exist: 3UU4_1.pdb skipped\n"
     ]
    }
   ],
   "metadata": {}
  },
  {
   "cell_type": "code",
   "execution_count": 61,
   "source": [
    "from MDAnalysis import Universe\n",
    "from MDAnalysis.analysis import align\n",
    "import pandas as pd\n",
    "\n",
    "ref = Universe(\"glic_test/clean_pdbs/correct_4NPQ_1.pdb\")\n",
    "data = {\"pdb_name\":[],\"rmsd\":[],\"universes\":[]}\n",
    "for pdb in info.coremer:\n",
    "    if pdb in info.broken:\n",
    "        continue\n",
    "    u=Universe(f\"glic_test/clean_pdbs/correct_{pdb}\")\n",
    "    a = align.AlignTraj(u,ref,in_memory=True)\n",
    "    a.run()\n",
    "    data[\"pdb_name\"].append(pdb)\n",
    "    data[\"universes\"].append(a)\n",
    "    data[\"rmsd\"].append(a.results.rmsd[0])\n",
    "data=pd.DataFrame(data)\n",
    "data[data.rmsd > 5]"
   ],
   "outputs": [
    {
     "output_type": "stream",
     "name": "stderr",
     "text": [
      "/home/ozyo/.local/lib/python3.9/site-packages/MDAnalysis/coordinates/base.py:892: UserWarning: Reader has no dt information, set to 1.0 ps\n",
      "  warnings.warn(\"Reader has no dt information, set to 1.0 ps\")\n"
     ]
    },
    {
     "output_type": "execute_result",
     "data": {
      "text/html": [
       "<div>\n",
       "<style scoped>\n",
       "    .dataframe tbody tr th:only-of-type {\n",
       "        vertical-align: middle;\n",
       "    }\n",
       "\n",
       "    .dataframe tbody tr th {\n",
       "        vertical-align: top;\n",
       "    }\n",
       "\n",
       "    .dataframe thead th {\n",
       "        text-align: right;\n",
       "    }\n",
       "</style>\n",
       "<table border=\"1\" class=\"dataframe\">\n",
       "  <thead>\n",
       "    <tr style=\"text-align: right;\">\n",
       "      <th></th>\n",
       "      <th>pdb_name</th>\n",
       "      <th>rmsd</th>\n",
       "      <th>universes</th>\n",
       "    </tr>\n",
       "  </thead>\n",
       "  <tbody>\n",
       "    <tr>\n",
       "      <th>20</th>\n",
       "      <td>5V6N_1.pdb</td>\n",
       "      <td>34.366562</td>\n",
       "      <td>&lt;MDAnalysis.analysis.align.AlignTraj object at...</td>\n",
       "    </tr>\n",
       "    <tr>\n",
       "      <th>70</th>\n",
       "      <td>4LML_1.pdb</td>\n",
       "      <td>25.742114</td>\n",
       "      <td>&lt;MDAnalysis.analysis.align.AlignTraj object at...</td>\n",
       "    </tr>\n",
       "    <tr>\n",
       "      <th>90</th>\n",
       "      <td>4LMK_1.pdb</td>\n",
       "      <td>34.216549</td>\n",
       "      <td>&lt;MDAnalysis.analysis.align.AlignTraj object at...</td>\n",
       "    </tr>\n",
       "  </tbody>\n",
       "</table>\n",
       "</div>"
      ],
      "text/plain": [
       "      pdb_name       rmsd                                          universes\n",
       "20  5V6N_1.pdb  34.366562  <MDAnalysis.analysis.align.AlignTraj object at...\n",
       "70  4LML_1.pdb  25.742114  <MDAnalysis.analysis.align.AlignTraj object at...\n",
       "90  4LMK_1.pdb  34.216549  <MDAnalysis.analysis.align.AlignTraj object at..."
      ]
     },
     "metadata": {},
     "execution_count": 61
    }
   ],
   "metadata": {}
  },
  {
   "cell_type": "markdown",
   "source": [
    "As you can see in the above analysis we have quite a few PDB files that show a high RMSD difference to the reference. They are outliers and most of the time you have to examine what's wrong manually in each file and either discard or repair them. GLIC has 5 subunits arranged in counter-clockwise order, usually, however, the PDB files above do not contain chains in the counter-clockwise order and their order needs to be changed."
   ],
   "metadata": {}
  },
  {
   "cell_type": "code",
   "execution_count": 62,
   "source": [
    "from pdbParser import chorder\n",
    "from importlib import reload\n",
    "reload (chorder)\n",
    "\n",
    "print(chorder.reorder({k:v for k,v in info.coremer.items() if k not in info.broken},cwd/\"clean_pdbs\",tag=\"correct_\"))\n",
    "\n",
    "ref = Universe(\"glic_test/clean_pdbs/correct_4NPQ_1.pdb\")\n",
    "data = {\"pdb_name\":[],\"rmsd\":[],\"universes\":[]}\n",
    "for pdb in info.coremer:\n",
    "    if pdb in info.broken:\n",
    "        continue\n",
    "    u=Universe(f\"glic_test/clean_pdbs/correct_{pdb}\")\n",
    "    a = align.AlignTraj(u,ref,in_memory=True)\n",
    "    a.run()\n",
    "    data[\"pdb_name\"].append(pdb)\n",
    "    data[\"universes\"].append(a)\n",
    "    data[\"rmsd\"].append(a.results.rmsd[0])\n",
    "data=pd.DataFrame(data)\n",
    "data[data.rmsd > 5]"
   ],
   "outputs": [
    {
     "output_type": "stream",
     "name": "stdout",
     "text": [
      "['5V6N_1.pdb', '4LML_1.pdb', '4LMK_1.pdb']\n"
     ]
    },
    {
     "output_type": "stream",
     "name": "stderr",
     "text": [
      "/home/ozyo/.local/lib/python3.9/site-packages/MDAnalysis/coordinates/base.py:892: UserWarning: Reader has no dt information, set to 1.0 ps\n",
      "  warnings.warn(\"Reader has no dt information, set to 1.0 ps\")\n"
     ]
    },
    {
     "output_type": "execute_result",
     "data": {
      "text/html": [
       "<div>\n",
       "<style scoped>\n",
       "    .dataframe tbody tr th:only-of-type {\n",
       "        vertical-align: middle;\n",
       "    }\n",
       "\n",
       "    .dataframe tbody tr th {\n",
       "        vertical-align: top;\n",
       "    }\n",
       "\n",
       "    .dataframe thead th {\n",
       "        text-align: right;\n",
       "    }\n",
       "</style>\n",
       "<table border=\"1\" class=\"dataframe\">\n",
       "  <thead>\n",
       "    <tr style=\"text-align: right;\">\n",
       "      <th></th>\n",
       "      <th>pdb_name</th>\n",
       "      <th>rmsd</th>\n",
       "      <th>universes</th>\n",
       "    </tr>\n",
       "  </thead>\n",
       "  <tbody>\n",
       "    <tr>\n",
       "      <th>20</th>\n",
       "      <td>5V6N_1.pdb</td>\n",
       "      <td>34.366562</td>\n",
       "      <td>&lt;MDAnalysis.analysis.align.AlignTraj object at...</td>\n",
       "    </tr>\n",
       "    <tr>\n",
       "      <th>70</th>\n",
       "      <td>4LML_1.pdb</td>\n",
       "      <td>25.742114</td>\n",
       "      <td>&lt;MDAnalysis.analysis.align.AlignTraj object at...</td>\n",
       "    </tr>\n",
       "    <tr>\n",
       "      <th>90</th>\n",
       "      <td>4LMK_1.pdb</td>\n",
       "      <td>34.216549</td>\n",
       "      <td>&lt;MDAnalysis.analysis.align.AlignTraj object at...</td>\n",
       "    </tr>\n",
       "  </tbody>\n",
       "</table>\n",
       "</div>"
      ],
      "text/plain": [
       "      pdb_name       rmsd                                          universes\n",
       "20  5V6N_1.pdb  34.366562  <MDAnalysis.analysis.align.AlignTraj object at...\n",
       "70  4LML_1.pdb  25.742114  <MDAnalysis.analysis.align.AlignTraj object at...\n",
       "90  4LMK_1.pdb  34.216549  <MDAnalysis.analysis.align.AlignTraj object at..."
      ]
     },
     "metadata": {},
     "execution_count": 62
    }
   ],
   "metadata": {}
  },
  {
   "cell_type": "code",
   "execution_count": 68,
   "source": [
    "reload(chorder)\n",
    "forced={'4LMK_1.pdb':[\"A\",\"E\",\"D\",\"C\",\"B\"],'4LML_1.pdb':[\"A\",\"C\",\"B\",\"E\",\"D\"],'5V6N_1.pdb':[\"A\",\"E\",\"D\",\"C\",\"B\"]}\n",
    "chorder.forceorder({k:v for k,v in info.coremer.items() if k not in info.broken},cwd/\"clean_pdbs\",ordlist=['5V6N_1.pdb','4LML_1.pdb','4LMK_1.pdb'],tag=\"correct_\",forordict=forced, alph=False)\n",
    "ref = Universe(\"glic_test/clean_pdbs/correct_4NPQ_1.pdb\")\n",
    "data = {\"pdb_name\":[],\"rmsd\":[],\"universes\":[]}\n",
    "for pdb in info.coremer:\n",
    "    if pdb in info.broken:\n",
    "        continue\n",
    "    u=Universe(f\"glic_test/clean_pdbs/correct_{pdb}\")\n",
    "    a = align.AlignTraj(u,ref,in_memory=True)\n",
    "    a.run()\n",
    "    data[\"pdb_name\"].append(pdb)\n",
    "    data[\"universes\"].append(a)\n",
    "    data[\"rmsd\"].append(a.results.rmsd[0])\n",
    "data=pd.DataFrame(data)\n",
    "data[data.rmsd > 5]"
   ],
   "outputs": [
    {
     "output_type": "stream",
     "name": "stdout",
     "text": [
      "['A', 'E', 'D', 'C', 'B']\n",
      "['A', 'B', 'C', 'D', 'E']\n",
      "['A', 'C', 'B', 'E', 'D']\n",
      "['A', 'B', 'C', 'D', 'E']\n",
      "['A', 'E', 'D', 'C', 'B']\n",
      "['A', 'B', 'C', 'D', 'E']\n"
     ]
    },
    {
     "output_type": "stream",
     "name": "stderr",
     "text": [
      "/home/ozyo/.local/lib/python3.9/site-packages/MDAnalysis/coordinates/base.py:892: UserWarning: Reader has no dt information, set to 1.0 ps\n",
      "  warnings.warn(\"Reader has no dt information, set to 1.0 ps\")\n"
     ]
    },
    {
     "output_type": "execute_result",
     "data": {
      "text/html": [
       "<div>\n",
       "<style scoped>\n",
       "    .dataframe tbody tr th:only-of-type {\n",
       "        vertical-align: middle;\n",
       "    }\n",
       "\n",
       "    .dataframe tbody tr th {\n",
       "        vertical-align: top;\n",
       "    }\n",
       "\n",
       "    .dataframe thead th {\n",
       "        text-align: right;\n",
       "    }\n",
       "</style>\n",
       "<table border=\"1\" class=\"dataframe\">\n",
       "  <thead>\n",
       "    <tr style=\"text-align: right;\">\n",
       "      <th></th>\n",
       "      <th>pdb_name</th>\n",
       "      <th>rmsd</th>\n",
       "      <th>universes</th>\n",
       "    </tr>\n",
       "  </thead>\n",
       "  <tbody>\n",
       "  </tbody>\n",
       "</table>\n",
       "</div>"
      ],
      "text/plain": [
       "Empty DataFrame\n",
       "Columns: [pdb_name, rmsd, universes]\n",
       "Index: []"
      ]
     },
     "metadata": {},
     "execution_count": 68
    }
   ],
   "metadata": {}
  },
  {
   "cell_type": "markdown",
   "source": [
    "### Structure Alignment\n",
    "Since we have extracted a common region, and CA coordinates only, all the structures have the same number of atoms. Regardless of the point mutations and the absolute residue number differences we can use almost any alignment tool to superimpose them. For this step you can use your favorite visualizer. In fact it is a good idea to look at the ensemble, and check each structure individually. For example some GLIC structures have a different subunit placement: anticlockwise vs. clockwise. This makes it impossible to superimpose. To fix this issue you could reorder and rename the chains so that the placement matches the rest of the ensemble.\n",
    "\n",
    "When you are finished the alignment of the structures, all you need to do is to combine them, then your ensemble is ready for uploading to the server.Since eBDIMs requires MODEL and END lines in the beginning and the end of the file, you can use a bash loop similar to this to combine them. Since all the structures have the same number of atoms, you can do the alignment with this combined file rather then individual files."
   ],
   "metadata": {}
  },
  {
   "cell_type": "code",
   "execution_count": 6,
   "source": [
    "%%bash\n",
    "touch glic_test/GLIC_ensemble.pdb\n",
    "for pdb in `ls -1 glic_test/clean_pdbs/correct*pdb`\n",
    "do\n",
    "echo \"MODEL\" >> glic_test/GLIC_ensemble.pdb\n",
    "cat $pdb >> glic_test/GLIC_ensemble.pdb\n",
    "echo \"END\" >> glic_test/GLIC_ensemble.pdb\n",
    "done"
   ],
   "outputs": [],
   "metadata": {}
  },
  {
   "cell_type": "markdown",
   "source": [
    "<table><tr>\n",
    "<td> <img src=\"img/side.png\" alt=\"Drawing\" style=\"width: 100%;\"/> </td>\n",
    "<td> <img src=\"img/top.png\" alt=\"Drawing\" style=\"width: 100%;\"/> </td>\n",
    "</tr></table>"
   ],
   "metadata": {}
  },
  {
   "cell_type": "markdown",
   "source": [
    "If you have any questions do not hesitate to contact us. pdbParser, ensemble preperation is a package being developed. Watch out for new features on [github](https://github.com/ozyo/pdbParser)"
   ],
   "metadata": {}
  },
  {
   "cell_type": "code",
   "execution_count": null,
   "source": [],
   "outputs": [],
   "metadata": {}
  }
 ],
 "metadata": {
  "kernelspec": {
   "name": "python3",
   "display_name": "Python 3.9.6 64-bit"
  },
  "language_info": {
   "codemirror_mode": {
    "name": "ipython",
    "version": 3
   },
   "file_extension": ".py",
   "mimetype": "text/x-python",
   "name": "python",
   "nbconvert_exporter": "python",
   "pygments_lexer": "ipython3",
   "version": "3.9.6"
  },
  "interpreter": {
   "hash": "f9f85f796d01129d0dd105a088854619f454435301f6ffec2fea96ecbd9be4ac"
  }
 },
 "nbformat": 4,
 "nbformat_minor": 2
}