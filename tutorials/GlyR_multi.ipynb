{
 "cells": [
  {
   "cell_type": "code",
   "execution_count": 1,
   "source": [
    "from pathlib import Path\n",
    "queries=['O93430','P23415','O75311'] #UniPortKB ID\n",
    "mer=5 #Total number of chains\n",
    "cwd=Path(\"glyr_test\") #This directory must exist\n",
    "cwd.mkdir(exist_ok=True)\n",
    "exclude=['2M6I'] #[List of PDB IDs] \n",
    "#If you already know some structures you want to exclude provide them as a list. "
   ],
   "outputs": [],
   "metadata": {}
  },
  {
   "cell_type": "code",
   "execution_count": 2,
   "source": [
    "from enspdb.prep_ensemble import PDBInfo\n",
    "info=PDBInfo(queries,mer,exclude=exclude) #Add the exclude argument to the end."
   ],
   "outputs": [
    {
     "output_type": "stream",
     "name": "stderr",
     "text": [
      "CRITICAL:root:Cannot process PDB id 1MOT. It does not contain complete set\n",
      "CRITICAL:root:Cannot process PDB id 1VRY. It does not contain complete set\n",
      "CRITICAL:root:Cannot process PDB id 2M6B. It does not contain complete set\n"
     ]
    }
   ],
   "metadata": {}
  },
  {
   "cell_type": "code",
   "execution_count": 3,
   "source": [
    "info.query #UniPort ID used to initialize this class\n",
    "#and it is also used for the output names.\n",
    "print(info.mer) # Total number of chains\n",
    "print(info.result) #Contains the information from the 3D structures table.\n",
    "print(info.refseqs) #Contains the reference sequence. "
   ],
   "outputs": [
    {
     "output_type": "stream",
     "name": "stdout",
     "text": [
      "5\n",
      "{'3JAD': [1, [['A', 'B', 'C', 'D', 'E']]], '3JAE': [1, [['A', 'B', 'C', 'D', 'E']]], '3JAF': [1, [['A', 'B', 'C', 'D', 'E']]], '6PLO': [1, [['A', 'B', 'C', 'D', 'E']]], '6PLP': [1, [['A', 'B', 'C', 'D', 'E']]], '6PLQ': [1, [['A', 'B', 'C', 'D', 'E']]], '6PLR': [1, [['A', 'B', 'C', 'D', 'E']]], '6PLS': [1, [['A', 'B', 'C', 'D', 'E']]], '6PLT': [1, [['A', 'B', 'C', 'D', 'E']]], '6PLU': [1, [['A', 'B', 'C', 'D', 'E']]], '6PLV': [1, [['A', 'B', 'C', 'D', 'E']]], '6PLW': [1, [['A', 'B', 'C', 'D', 'E']]], '6PLX': [1, [['A', 'B', 'C', 'D', 'E']]], '6PLY': [1, [['A', 'B', 'C', 'D', 'E']]], '6PLZ': [1, [['A', 'B', 'C', 'D', 'E']]], '6PM0': [1, [['A', 'B', 'C', 'D', 'E']]], '6PM1': [1, [['A', 'B', 'C', 'D', 'E']]], '6PM2': [1, [['A', 'B', 'C', 'D', 'E']]], '6PM3': [1, [['A', 'B', 'C', 'D', 'E']]], '6PM4': [1, [['A', 'B', 'C', 'D', 'E']]], '6PM5': [1, [['A', 'B', 'C', 'D', 'E']]], '6PM6': [1, [['A', 'B', 'C', 'D', 'E']]], '6PXD': [1, [['A', 'B', 'C', 'D', 'E']]], '6UBS': [1, [['A', 'B', 'C', 'D', 'E']]], '6UBT': [1, [['A', 'B', 'C', 'D', 'E']]], '6UD3': [1, [['A', 'B', 'C', 'D', 'E']]], '6VM0': [1, [['A', 'B', 'C', 'D', 'E']]], '6VM2': [1, [['A', 'B', 'C', 'D', 'E']]], '6VM3': [1, [['A', 'B', 'C', 'D', 'E']]], '4X5T': [1, [['A', 'B', 'C', 'D', 'E']]], '5CFB': [1, [['A', 'B', 'C', 'D', 'E']]], '5TIN': [1, [['A', 'B', 'C', 'D', 'E']]], '5TIO': [1, [['A', 'B', 'C', 'D', 'E']]], '5VDH': [1, [['A', 'B', 'C', 'D', 'E']]], '5VDI': [1, [['A', 'B', 'C', 'D', 'E']]]}\n",
      "{'O93430': 'MFALGIYLWETIVFFSLAASQQAAARKAASPMPPSEFLDKLMGKVSGYDARIRPNFKGPPVNVTCNIFINSFGSIAETTMDYRVNIFLRQQWNDPRLAYSEYPDDSLDLDPSMLDSIWKPDLFFANEKGANFHEVTTDNKLLRISKNGNVLYSIRITLVLACPMDLKNFPMDVQTCIMQLESFGYTMNDLIFEWDEKGAVQVADGLTLPQFILKEEKDLRYCTKHYNTGKFTCIEARFHLERQMGYYLIQMYIPSLLIVILSWVSFWINMDAAPARVGLGITTVLTMTTQSSGSRASLPKVSYVKAIDIWMAVCLLFVFSALLEYAAVNFIARQHKELLRFQRRRRHLKEDEAGDGRFSFAAYGMGPACLQAKDGMAIKGNNNNAPTSTNPPEKTVEEMRKLFISRAKRIDTVSRVAFPLVFLIFNIFYWITYKIIRSEDIHKQ\\n', 'P23415': 'MYSFNTLRLYLWETIVFFSLAASKEAEAARSAPKPMSPSDFLDKLMGRTSGYDARIRPNFKGPPVNVSCNIFINSFGSIAETTMDYRVNIFLRQQWNDPRLAYNEYPDDSLDLDPSMLDSIWKPDLFFANEKGAHFHEITTDNKLLRISRNGNVLYSIRITLTLACPMDLKNFPMDVQTCIMQLESFGYTMNDLIFEWQEQGAVQVADGLTLPQFILKEEKDLRYCTKHYNTGKFTCIEARFHLERQMGYYLIQMYIPSLLIVILSWISFWINMDAAPARVGLGITTVLTMTTQSSGSRASLPKVSYVKAIDIWMAVCLLFVFSALLEYAAVNFVSRQHKELLRFRRKRRHHKSPMLNLFQEDEAGEGRFNFSAYGMGPACLQAKDGISVKGANNSNTTNPPPAPSKSPEEMRKLFIQRAKKIDKISRIGFPMAFLIFNMFYWIIYKIVRREDVHNQ\\n', 'O75311': 'MAHVRHFRTLVSGFYFWEAALLLSLVATKETDSARSRSAPMSPSDFLDKLMGRTSGYDARIRPNFKGPPVNVTCNIFINSFGSIAETTMDYRVNIFLRQKWNDPRLAYSEYPDDSLDLDPSMLDSIWKPDLFFANEKGANFHEVTTDNKLLRIFKNGNVLYSIRLTLTLSCPMDLKNFPMDVQTCIMQLESFGYTMNDLIFEWQDEAPVQVAEGLTLPQFLLKEEKDLRYCTKHYNTGKFTCIEVRFHLERQMGYYLIQMYIPSLLIVILSWVSFWINMDAAPARVALGITTVLTMTTQSSGSRASLPKVSYVKAIDIWMAVCLLFVFSALLEYAAVNFVSRQHKELLRFRRKRKNKTEAFALEKFYRFSDMDDEVRESRFSFTAYGMGPCLQAKDGMTPKGPNHPVQVMPKSPDEMRKVFIDRAKKIDTISRACFPLAFLIFNIFYWVIYKILRHEDIHQQQD\\n'}\n"
     ]
    }
   ],
   "metadata": {
    "scrolled": true
   }
  },
  {
   "cell_type": "code",
   "execution_count": 4,
   "source": [
    "info.downloadPDB(cwd)\n",
    "info.process_pdbs(cwd)"
   ],
   "outputs": [
    {
     "output_type": "stream",
     "name": "stderr",
     "text": [
      "CRITICAL:root:PDB ID 4X5T cannot be processed, possibly a chimera, skipping this file\n"
     ]
    }
   ],
   "metadata": {}
  },
  {
   "cell_type": "code",
   "execution_count": 5,
   "source": [
    "clustalopath=\"/home/ozyo/.local/bin/clustalo-1.2.4-Ubuntu-x86_64\"\n",
    "r=info.msa_clustal(cwd,clustalopath)"
   ],
   "outputs": [
    {
     "output_type": "stream",
     "name": "stderr",
     "text": [
      "WARNING:root:5CFB_1.pdb|C| has missing residues in block B2, marked as broken.\n"
     ]
    }
   ],
   "metadata": {}
  },
  {
   "cell_type": "code",
   "execution_count": 6,
   "source": [
    "info.get_core(cwd)"
   ],
   "outputs": [],
   "metadata": {}
  },
  {
   "cell_type": "code",
   "execution_count": 7,
   "source": [
    "from MDAnalysis import Universe\n",
    "from MDAnalysis.analysis import align\n",
    "import pandas as pd\n",
    "\n",
    "def align_get_rmsd(ref_id:str,cwd:Path):\n",
    "    ref = Universe(f\"{cwd}/clean_pdbs/correct_{ref_id}.pdb\")\n",
    "    data = {\"pdb_name\":[],\"rmsd\":[],\"universes\":[]}\n",
    "    for pdb in info.coremer:\n",
    "        if pdb in info.broken:\n",
    "            continue\n",
    "        u=Universe(f\"{cwd}/clean_pdbs/correct_{pdb}\")\n",
    "        a = align.AlignTraj(u,ref,in_memory=True)\n",
    "        a.run()\n",
    "        data[\"pdb_name\"].append(pdb)\n",
    "        data[\"universes\"].append(u)\n",
    "        data[\"rmsd\"].append(a.results.rmsd[0])\n",
    "    data=pd.DataFrame(data)\n",
    "    print(data[data.rmsd > 5])\n",
    "    return data\n",
    "\n",
    "rmsd=align_get_rmsd('3JAD_1',cwd)"
   ],
   "outputs": [
    {
     "output_type": "stream",
     "name": "stderr",
     "text": [
      "WARNING:MDAnalysis.coordinates.AMBER:netCDF4 is not available. Writing AMBER ncdf files will be slow.\n",
      "/home/ozyo/.local/lib/python3.9/site-packages/MDAnalysis/coordinates/base.py:892: UserWarning: Reader has no dt information, set to 1.0 ps\n",
      "  warnings.warn(\"Reader has no dt information, set to 1.0 ps\")\n"
     ]
    },
    {
     "output_type": "stream",
     "name": "stdout",
     "text": [
      "      pdb_name       rmsd                   universes\n",
      "1   6PLR_1.pdb  33.607393  <Universe with 1645 atoms>\n",
      "2   6PM0_1.pdb  33.807739  <Universe with 1645 atoms>\n",
      "3   6PM5_1.pdb  33.577508  <Universe with 1645 atoms>\n",
      "4   6UD3_1.pdb  25.217131  <Universe with 1645 atoms>\n",
      "7   6PLX_1.pdb  33.569200  <Universe with 1645 atoms>\n",
      "8   6PLQ_1.pdb  33.654846  <Universe with 1645 atoms>\n",
      "9   6VM3_1.pdb  25.227764  <Universe with 1645 atoms>\n",
      "10  5TIO_1.pdb  24.998971  <Universe with 1645 atoms>\n",
      "12  6PLS_1.pdb  33.622289  <Universe with 1645 atoms>\n",
      "13  6VM0_1.pdb  25.206892  <Universe with 1645 atoms>\n",
      "14  6PM1_1.pdb  33.539067  <Universe with 1645 atoms>\n",
      "15  6PLW_1.pdb  33.818750  <Universe with 1645 atoms>\n",
      "16  6PM3_1.pdb  33.242504  <Universe with 1645 atoms>\n",
      "18  6PLP_1.pdb  33.654846  <Universe with 1645 atoms>\n",
      "20  6PM4_1.pdb  33.584811  <Universe with 1645 atoms>\n",
      "22  6PLY_1.pdb  33.620690  <Universe with 1645 atoms>\n",
      "23  6PLO_1.pdb  33.549044  <Universe with 1645 atoms>\n",
      "25  6VM2_1.pdb  25.206892  <Universe with 1645 atoms>\n",
      "26  6PLZ_1.pdb  33.285264  <Universe with 1645 atoms>\n",
      "27  6PM6_1.pdb  25.112954  <Universe with 1645 atoms>\n",
      "28  6PLU_1.pdb  33.613380  <Universe with 1645 atoms>\n",
      "30  6PM2_1.pdb  33.633816  <Universe with 1645 atoms>\n",
      "31  6PLV_1.pdb  33.311265  <Universe with 1645 atoms>\n"
     ]
    }
   ],
   "metadata": {}
  },
  {
   "cell_type": "markdown",
   "source": [
    "As you can see in the above analysis we have quite a few PDB files that show a high RMSD difference to the reference. They are outliers and most of the time you have to examine what's wrong manually in each file and either discard or repair them. GLIC has 5 subunits arranged in counter-clockwise order, usually, however, the PDB files above do not contain chains in the counter-clockwise order and their order needs to be changed."
   ],
   "metadata": {}
  },
  {
   "cell_type": "code",
   "execution_count": 9,
   "source": [
    "# run it twice to fix list a\n",
    "from enspdb import chorder\n",
    "from importlib import reload\n",
    "reload(chorder)\n",
    "b=rmsd[rmsd.rmsd>5].pdb_name.to_list()\n",
    "a= ['6VM2_1.pdb','6VM3_1.pdb','6VM0_1.pdb','6UD3_1.pdb','5TIO_1.pdb']\n",
    "forced ={k:['A','E','D','C','B'] for k in b if k not in a}\n",
    "for k in a:\n",
    "    forced[k]=['A','D','C','B','E']\n",
    "chorder.forceorder({k:v for k,v in info.coremer.items() if k not in info.broken},cwd/\"clean_pdbs\",tag=\"correct_\", alph=False,forordict=forced)\n",
    "rmsd = align_get_rmsd('3JAD_1',cwd)"
   ],
   "outputs": [
    {
     "output_type": "stream",
     "name": "stderr",
     "text": [
      "/home/ozyo/.local/lib/python3.9/site-packages/MDAnalysis/coordinates/base.py:892: UserWarning: Reader has no dt information, set to 1.0 ps\n",
      "  warnings.warn(\"Reader has no dt information, set to 1.0 ps\")\n"
     ]
    },
    {
     "output_type": "stream",
     "name": "stdout",
     "text": [
      "Empty DataFrame\n",
      "Columns: [pdb_name, rmsd, universes]\n",
      "Index: []\n"
     ]
    }
   ],
   "metadata": {}
  },
  {
   "cell_type": "code",
   "execution_count": 10,
   "source": [
    "for _,row in rmsd.iterrows():\n",
    "    row['universes'].select_atoms(\"all\").write(f\"{cwd}/clean_pdbs/correct_{row['pdb_name']}\")"
   ],
   "outputs": [
    {
     "output_type": "stream",
     "name": "stderr",
     "text": [
      "/home/ozyo/.local/lib/python3.9/site-packages/MDAnalysis/coordinates/PDB.py:747: UserWarning: Unit cell dimensions not found. CRYST1 record set to unitary values.\n",
      "  warnings.warn(\"Unit cell dimensions not found. \"\n"
     ]
    }
   ],
   "metadata": {}
  },
  {
   "cell_type": "code",
   "execution_count": 11,
   "source": [
    "%%bash\n",
    "touch glyr_test/GLYR_ensemble.pdb\n",
    "for pdb in `ls -1 glyr_test/clean_pdbs/correct*pdb`\n",
    "do\n",
    "echo \"MODEL\" >> glyr_test/GLYR_ensemble.pdb\n",
    "cat $pdb >> glyr_test/GLYR_ensemble.pdb\n",
    "echo \"END\" >> glyr_test/GLYR_ensemble.pdb\n",
    "done"
   ],
   "outputs": [],
   "metadata": {}
  }
 ],
 "metadata": {
  "kernelspec": {
   "name": "python3",
   "display_name": "Python 3.9.6 64-bit"
  },
  "language_info": {
   "codemirror_mode": {
    "name": "ipython",
    "version": 3
   },
   "file_extension": ".py",
   "mimetype": "text/x-python",
   "name": "python",
   "nbconvert_exporter": "python",
   "pygments_lexer": "ipython3",
   "version": "3.9.6"
  },
  "interpreter": {
   "hash": "f9f85f796d01129d0dd105a088854619f454435301f6ffec2fea96ecbd9be4ac"
  }
 },
 "nbformat": 4,
 "nbformat_minor": 2
}