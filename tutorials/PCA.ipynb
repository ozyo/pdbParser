{
 "cells": [
  {
   "cell_type": "code",
   "execution_count": 13,
   "source": [
    "from MDAnalysis import Universe\n",
    "from MDAnalysis.analysis import pca\n",
    "from pathlib import Path"
   ],
   "outputs": [],
   "metadata": {}
  },
  {
   "cell_type": "code",
   "execution_count": 14,
   "source": [
    "pdbs=Universe(\"glic_test/GLIC_ensemble.pdb\")\n",
    "#pdba=Universe(\"glra1_danre/GLYR_ensemble.pdb\")"
   ],
   "outputs": [
    {
     "output_type": "stream",
     "name": "stderr",
     "text": [
      "/home/ozyo/.local/lib/python3.9/site-packages/MDAnalysis/coordinates/PDB.py:429: UserWarning: 1 A^3 CRYST1 record, this is usually a placeholder. Unit cell dimensions will be set to None.\n",
      "  warnings.warn(\"1 A^3 CRYST1 record,\"\n"
     ]
    }
   ],
   "metadata": {}
  },
  {
   "cell_type": "code",
   "execution_count": 15,
   "source": [
    "results=pca.PCA(pdbs)\n",
    "results.run()\n",
    "#resulta=pca.PCA(pdba)\n",
    "#resulta.run()"
   ],
   "outputs": [
    {
     "output_type": "stream",
     "name": "stderr",
     "text": [
      "/home/ozyo/.local/lib/python3.9/site-packages/MDAnalysis/coordinates/base.py:892: UserWarning: Reader has no dt information, set to 1.0 ps\n",
      "  warnings.warn(\"Reader has no dt information, set to 1.0 ps\")\n"
     ]
    },
    {
     "output_type": "execute_result",
     "data": {
      "text/plain": [
       "<MDAnalysis.analysis.pca.PCA at 0x7fdf020c8520>"
      ]
     },
     "metadata": {},
     "execution_count": 15
    }
   ],
   "metadata": {}
  },
  {
   "cell_type": "code",
   "execution_count": 16,
   "source": [
    "import numpy as np\n",
    "import pandas as pd\n",
    "import matplotlib.pyplot as plt\n",
    "orders=['correct_2XQ3_1.pdb','correct_2XQ4_1.pdb','correct_2XQ5_1.pdb','correct_2XQ6_1.pdb','correct_2XQ7_1.pdb','correct_2XQ8_1.pdb',\n",
    "'correct_2XQ9_1.pdb','correct_2XQA_1.pdb','correct_3EAM_1.pdb','correct_3EHZ_1.pdb','correct_3EI0_1.pdb','correct_3LSV_1.pdb','correct_3P4W_1.pdb',\n",
    "'correct_3P50_1.pdb','correct_3TLS_1.pdb','correct_3TLT_1.pdb','correct_3TLU_1.pdb','correct_3TLV_1.pdb','correct_3TLW_1.pdb','correct_3UU4_1.pdb',\n",
    "'correct_3UU5_1.pdb','correct_3UU6_1.pdb','correct_3UU8_1.pdb','correct_3UUB_1.pdb','correct_3UUB_2.pdb','correct_4F8H_1.pdb','correct_4HFB_1.pdb',\n",
    "'correct_4HFC_1.pdb','correct_4HFD_1.pdb','correct_4HFE_1.pdb','correct_4HFH_1.pdb','correct_4HFI_1.pdb','correct_4IL4_1.pdb','correct_4IL9_1.pdb',\n",
    "'correct_4ILB_1.pdb','correct_4ILC_1.pdb','correct_4IRE_1.pdb','correct_4LMJ_1.pdb','correct_4LMK_1.pdb','correct_4LML_1.pdb','correct_4NPP_1.pdb',\n",
    "'correct_4NPQ_1.pdb','correct_4NPQ_4.pdb','correct_4QH1_1.pdb','correct_4QH4_1.pdb','correct_4QH5_1.pdb','correct_4ZZB_1.pdb','correct_4ZZC_1.pdb',\n",
    "'correct_5HCJ_1.pdb','correct_5HCM_1.pdb','correct_5HEG_1.pdb','correct_5HEH_1.pdb','correct_5IUX_1.pdb','correct_5J0Z_1.pdb','correct_5L47_1.pdb',\n",
    "'correct_5L4E_1.pdb','correct_5L4H_1.pdb','correct_5MUO_1.pdb','correct_5MUR_1.pdb','correct_5MVM_1.pdb','correct_5MVN_1.pdb','correct_5MZQ_1.pdb',\n",
    "'correct_5MZR_1.pdb','correct_5MZT_1.pdb','correct_5NJY_1.pdb','correct_5NKJ_1.pdb','correct_5V6N_1.pdb','correct_5V6O_1.pdb','correct_6EMX_1.pdb',\n",
    "'correct_6F0I_1.pdb','correct_6F0J_1.pdb','correct_6F0M_1.pdb','correct_6F0N_1.pdb','correct_6F0R_1.pdb','correct_6F0U_1.pdb','correct_6F0V_1.pdb',\n",
    "'correct_6F0Z_1.pdb','correct_6F10_1.pdb','correct_6F11_1.pdb','correct_6F12_1.pdb','correct_6F13_1.pdb','correct_6F15_1.pdb','correct_6F16_1.pdb',\n",
    "'correct_6F7A_1.pdb','correct_6HJ3_1.pdb','correct_6HJA_1.pdb','correct_6HJB_1.pdb','correct_6HJI_1.pdb','correct_6HJZ_1.pdb','correct_6HJZ_2.pdb',\n",
    "'correct_6HPP_1.pdb','correct_6HY5_1.pdb','correct_6HY9_1.pdb','correct_6HYA_1.pdb','correct_6HYV_1.pdb','correct_6HYW_1.pdb','correct_6HYX_1.pdb',\n",
    "'correct_6HYZ_1.pdb','correct_6HZ0_1.pdb','correct_6HZ1_1.pdb','correct_6HZ3_1.pdb','correct_6HZW_1.pdb','correct_6I08_1.pdb']\n",
    "ordera=['correct_3JAD_1.pdb','correct_3JAE_1.pdb','correct_3JAF_1.pdb','correct_6PLO_1.pdb','correct_6PLP_1.pdb','correct_6PLQ_1.pdb',\n",
    "'correct_6PLR_1.pdb','correct_6PLS_1.pdb','correct_6PLT_1.pdb','correct_6PLU_1.pdb','correct_6PLV_1.pdb',\n",
    "'correct_6PLW_1.pdb','correct_6PLX_1.pdb','correct_6PLY_1.pdb','correct_6PLZ_1.pdb','correct_6PM0_1.pdb',\n",
    "'correct_6PM1_1.pdb','correct_6PM2_1.pdb','correct_6PM3_1.pdb','correct_6PM4_1.pdb','correct_6PM5_1.pdb',\n",
    "'correct_6PM6_1.pdb','correct_6PXD_1.pdb','correct_6UBS_1.pdb','correct_6UBT_1.pdb','correct_6UD3_1.pdb',\n",
    "'correct_6VM0_1.pdb','correct_6VM2_1.pdb','correct_6VM3_1.pdb']\n",
    "transformed = results.transform(pdbs.select_atoms(\"all\"), n_components=5)\n",
    "transformed.shape\n",
    "df = pd.DataFrame(transformed,\n",
    "                  columns=['PC{}'.format(i+1) for i in range(5)])\n",
    "df[\"order\"]=orders\n",
    "df.head()"
   ],
   "outputs": [
    {
     "output_type": "execute_result",
     "data": {
      "text/html": [
       "<div>\n",
       "<style scoped>\n",
       "    .dataframe tbody tr th:only-of-type {\n",
       "        vertical-align: middle;\n",
       "    }\n",
       "\n",
       "    .dataframe tbody tr th {\n",
       "        vertical-align: top;\n",
       "    }\n",
       "\n",
       "    .dataframe thead th {\n",
       "        text-align: right;\n",
       "    }\n",
       "</style>\n",
       "<table border=\"1\" class=\"dataframe\">\n",
       "  <thead>\n",
       "    <tr style=\"text-align: right;\">\n",
       "      <th></th>\n",
       "      <th>PC1</th>\n",
       "      <th>PC2</th>\n",
       "      <th>PC3</th>\n",
       "      <th>PC4</th>\n",
       "      <th>PC5</th>\n",
       "      <th>order</th>\n",
       "    </tr>\n",
       "  </thead>\n",
       "  <tbody>\n",
       "    <tr>\n",
       "      <th>0</th>\n",
       "      <td>45.892090</td>\n",
       "      <td>17.728430</td>\n",
       "      <td>3.185617</td>\n",
       "      <td>-2.462068</td>\n",
       "      <td>-11.772659</td>\n",
       "      <td>correct_2XQ3_1.pdb</td>\n",
       "    </tr>\n",
       "    <tr>\n",
       "      <th>1</th>\n",
       "      <td>46.247486</td>\n",
       "      <td>19.113821</td>\n",
       "      <td>2.817015</td>\n",
       "      <td>-2.733159</td>\n",
       "      <td>-16.700592</td>\n",
       "      <td>correct_2XQ4_1.pdb</td>\n",
       "    </tr>\n",
       "    <tr>\n",
       "      <th>2</th>\n",
       "      <td>45.829904</td>\n",
       "      <td>18.288017</td>\n",
       "      <td>2.358294</td>\n",
       "      <td>-2.734442</td>\n",
       "      <td>-13.742736</td>\n",
       "      <td>correct_2XQ5_1.pdb</td>\n",
       "    </tr>\n",
       "    <tr>\n",
       "      <th>3</th>\n",
       "      <td>45.927355</td>\n",
       "      <td>17.643877</td>\n",
       "      <td>2.932713</td>\n",
       "      <td>-2.644482</td>\n",
       "      <td>-11.564559</td>\n",
       "      <td>correct_2XQ6_1.pdb</td>\n",
       "    </tr>\n",
       "    <tr>\n",
       "      <th>4</th>\n",
       "      <td>38.452003</td>\n",
       "      <td>19.479431</td>\n",
       "      <td>6.219683</td>\n",
       "      <td>1.225939</td>\n",
       "      <td>2.421734</td>\n",
       "      <td>correct_2XQ7_1.pdb</td>\n",
       "    </tr>\n",
       "  </tbody>\n",
       "</table>\n",
       "</div>"
      ],
      "text/plain": [
       "         PC1        PC2       PC3       PC4        PC5               order\n",
       "0  45.892090  17.728430  3.185617 -2.462068 -11.772659  correct_2XQ3_1.pdb\n",
       "1  46.247486  19.113821  2.817015 -2.733159 -16.700592  correct_2XQ4_1.pdb\n",
       "2  45.829904  18.288017  2.358294 -2.734442 -13.742736  correct_2XQ5_1.pdb\n",
       "3  45.927355  17.643877  2.932713 -2.644482 -11.564559  correct_2XQ6_1.pdb\n",
       "4  38.452003  19.479431  6.219683  1.225939   2.421734  correct_2XQ7_1.pdb"
      ]
     },
     "metadata": {},
     "execution_count": 16
    }
   ],
   "metadata": {}
  },
  {
   "cell_type": "code",
   "execution_count": 17,
   "source": [
    "import seaborn as sns\n",
    "\n",
    "p=sns.scatterplot(data=df,x=\"PC1\",y=\"PC2\",color=\"orange\")\n",
    "for _,row in df.iterrows():\n",
    "    plt.text(x=row.PC1, y=row.PC2, s=row.order.split(\"_\")[1])"
   ],
   "outputs": [
    {
     "output_type": "display_data",
     "data": {
      "image/png": "[encoded data removed]",
      "text/plain": [
       "<Figure size 432x288 with 1 Axes>"
      ]
     },
     "metadata": {
      "needs_background": "light"
     }
    }
   ],
   "metadata": {}
  }
 ],
 "metadata": {
  "orig_nbformat": 4,
  "language_info": {
   "name": "python",
   "version": "3.9.6",
   "mimetype": "text/x-python",
   "codemirror_mode": {
    "name": "ipython",
    "version": 3
   },
   "pygments_lexer": "ipython3",
   "nbconvert_exporter": "python",
   "file_extension": ".py"
  },
  "kernelspec": {
   "name": "python3",
   "display_name": "Python 3.9.6 64-bit"
  },
  "interpreter": {
   "hash": "36cf16204b8548560b1c020c4e8fb5b57f0e4c58016f52f2d4be01e192833930"
  }
 },
 "nbformat": 4,
 "nbformat_minor": 2
}