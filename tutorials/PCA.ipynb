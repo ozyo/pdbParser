{
 "cells": [
  {
   "cell_type": "code",
   "execution_count": 6,
   "source": [
    "from MDAnalysis import Universe\n",
    "from MDAnalysis.analysis import pca\n",
    "from pathlib import Path"
   ],
   "outputs": [],
   "metadata": {}
  },
  {
   "cell_type": "code",
   "execution_count": 8,
   "source": [
    "#pdbs=Universe(\"glic_test/GLIC_ensemble.pdb\")\n",
    "pdba=Universe(\"glra1_danre/GLYR_ensemble.pdb\")"
   ],
   "outputs": [
    {
     "output_type": "stream",
     "name": "stderr",
     "text": [
      "/home/ozyo/.local/lib/python3.9/site-packages/MDAnalysis/coordinates/PDB.py:429: UserWarning: 1 A^3 CRYST1 record, this is usually a placeholder. Unit cell dimensions will be set to None.\n",
      "  warnings.warn(\"1 A^3 CRYST1 record,\"\n"
     ]
    }
   ],
   "metadata": {}
  },
  {
   "cell_type": "code",
   "execution_count": 9,
   "source": [
    "#results=pca.PCA(pdbs)\n",
    "resulta=pca.PCA(pdba)\n",
    "resulta.run()"
   ],
   "outputs": [
    {
     "output_type": "stream",
     "name": "stderr",
     "text": [
      "/home/ozyo/.local/lib/python3.9/site-packages/MDAnalysis/coordinates/PDB.py:429: UserWarning: 1 A^3 CRYST1 record, this is usually a placeholder. Unit cell dimensions will be set to None.\n",
      "  warnings.warn(\"1 A^3 CRYST1 record,\"\n",
      "/home/ozyo/.local/lib/python3.9/site-packages/MDAnalysis/coordinates/base.py:892: UserWarning: Reader has no dt information, set to 1.0 ps\n",
      "  warnings.warn(\"Reader has no dt information, set to 1.0 ps\")\n"
     ]
    },
    {
     "output_type": "execute_result",
     "data": {
      "text/plain": [
       "<MDAnalysis.analysis.pca.PCA at 0x7fdf0e44f5b0>"
      ]
     },
     "metadata": {},
     "execution_count": 9
    }
   ],
   "metadata": {}
  },
  {
   "cell_type": "code",
   "execution_count": 10,
   "source": [
    "import numpy as np\n",
    "import pandas as pd\n",
    "import matplotlib.pyplot as plt\n",
    "#order=['correct_2XQ3_1.pdb','correct_2XQ4_1.pdb','correct_2XQ5_1.pdb','correct_2XQ6_1.pdb','correct_2XQ7_1.pdb','correct_2XQ8_1.pdb',\n",
    "#'correct_2XQ9_1.pdb','correct_2XQA_1.pdb','correct_3EAM_1.pdb','correct_3EHZ_1.pdb','correct_3EI0_1.pdb','correct_3LSV_1.pdb','correct_3P4W_1.pdb',\n",
    "#'correct_3P50_1.pdb','correct_3TLS_1.pdb','correct_3TLT_1.pdb','correct_3TLU_1.pdb','correct_3TLV_1.pdb','correct_3TLW_1.pdb','correct_3UU4_1.pdb',\n",
    "#'correct_3UU5_1.pdb','correct_3UU6_1.pdb','correct_3UU8_1.pdb','correct_3UUB_1.pdb','correct_3UUB_2.pdb','correct_4F8H_1.pdb','correct_4HFB_1.pdb',\n",
    "#'correct_4HFC_1.pdb','correct_4HFD_1.pdb','correct_4HFE_1.pdb','correct_4HFH_1.pdb','correct_4HFI_1.pdb','correct_4IL4_1.pdb','correct_4IL9_1.pdb',\n",
    "#'correct_4ILB_1.pdb','correct_4ILC_1.pdb','correct_4IRE_1.pdb','correct_4LMJ_1.pdb','correct_4LMK_1.pdb','correct_4LML_1.pdb','correct_4NPP_1.pdb',\n",
    "#'correct_4NPQ_1.pdb','correct_4NPQ_4.pdb','correct_4QH1_1.pdb','correct_4QH4_1.pdb','correct_4QH5_1.pdb','correct_4ZZB_1.pdb','correct_4ZZC_1.pdb',\n",
    "#'correct_5HCJ_1.pdb','correct_5HCM_1.pdb','correct_5HEG_1.pdb','correct_5HEH_1.pdb','correct_5IUX_1.pdb','correct_5J0Z_1.pdb','correct_5L47_1.pdb',\n",
    "#'correct_5L4E_1.pdb','correct_5L4H_1.pdb','correct_5MUO_1.pdb','correct_5MUR_1.pdb','correct_5MVM_1.pdb','correct_5MVN_1.pdb','correct_5MZQ_1.pdb',\n",
    "#'correct_5MZR_1.pdb','correct_5MZT_1.pdb','correct_5NJY_1.pdb','correct_5NKJ_1.pdb','correct_5V6N_1.pdb','correct_5V6O_1.pdb','correct_6EMX_1.pdb',\n",
    "#'correct_6F0I_1.pdb','correct_6F0J_1.pdb','correct_6F0M_1.pdb','correct_6F0N_1.pdb','correct_6F0R_1.pdb','correct_6F0U_1.pdb','correct_6F0V_1.pdb',\n",
    "#'correct_6F0Z_1.pdb','correct_6F10_1.pdb','correct_6F11_1.pdb','correct_6F12_1.pdb','correct_6F13_1.pdb','correct_6F15_1.pdb','correct_6F16_1.pdb',\n",
    "#'correct_6F7A_1.pdb','correct_6HJ3_1.pdb','correct_6HJA_1.pdb','correct_6HJB_1.pdb','correct_6HJI_1.pdb','correct_6HJZ_1.pdb','correct_6HJZ_2.pdb',\n",
    "#'correct_6HPP_1.pdb','correct_6HY5_1.pdb','correct_6HY9_1.pdb','correct_6HYA_1.pdb','correct_6HYV_1.pdb','correct_6HYW_1.pdb','correct_6HYX_1.pdb',\n",
    "#'correct_6HYZ_1.pdb','correct_6HZ0_1.pdb','correct_6HZ1_1.pdb','correct_6HZ3_1.pdb','correct_6HZW_1.pdb','correct_6I08_1.pdb']\n",
    "order=['correct_3JAD_1.pdb','correct_3JAE_1.pdb','correct_3JAF_1.pdb','correct_6PLO_1.pdb','correct_6PLP_1.pdb','correct_6PLQ_1.pdb',\n",
    "'correct_6PLR_1.pdb','correct_6PLS_1.pdb','correct_6PLT_1.pdb','correct_6PLU_1.pdb','correct_6PLV_1.pdb',\n",
    "'correct_6PLW_1.pdb','correct_6PLX_1.pdb','correct_6PLY_1.pdb','correct_6PLZ_1.pdb','correct_6PM0_1.pdb',\n",
    "'correct_6PM1_1.pdb','correct_6PM2_1.pdb','correct_6PM3_1.pdb','correct_6PM4_1.pdb','correct_6PM5_1.pdb',\n",
    "'correct_6PM6_1.pdb','correct_6PXD_1.pdb','correct_6UBS_1.pdb','correct_6UBT_1.pdb','correct_6UD3_1.pdb',\n",
    "'correct_6VM0_1.pdb','correct_6VM2_1.pdb','correct_6VM3_1.pdb']\n",
    "transformed = resulta.transform(pdba.select_atoms(\"all\"), n_components=5)\n",
    "transformed.shape\n",
    "df = pd.DataFrame(transformed,\n",
    "                  columns=['PC{}'.format(i+1) for i in range(5)])\n",
    "df[\"order\"]=order\n",
    "df.head()"
   ],
   "outputs": [
    {
     "output_type": "execute_result",
     "data": {
      "text/html": [
       "<div>\n",
       "<style scoped>\n",
       "    .dataframe tbody tr th:only-of-type {\n",
       "        vertical-align: middle;\n",
       "    }\n",
       "\n",
       "    .dataframe tbody tr th {\n",
       "        vertical-align: top;\n",
       "    }\n",
       "\n",
       "    .dataframe thead th {\n",
       "        text-align: right;\n",
       "    }\n",
       "</style>\n",
       "<table border=\"1\" class=\"dataframe\">\n",
       "  <thead>\n",
       "    <tr style=\"text-align: right;\">\n",
       "      <th></th>\n",
       "      <th>PC1</th>\n",
       "      <th>PC2</th>\n",
       "      <th>PC3</th>\n",
       "      <th>PC4</th>\n",
       "      <th>PC5</th>\n",
       "      <th>order</th>\n",
       "    </tr>\n",
       "  </thead>\n",
       "  <tbody>\n",
       "    <tr>\n",
       "      <th>0</th>\n",
       "      <td>-83.204008</td>\n",
       "      <td>14.657816</td>\n",
       "      <td>-15.448281</td>\n",
       "      <td>19.232984</td>\n",
       "      <td>-14.219140</td>\n",
       "      <td>correct_3JAD_1.pdb</td>\n",
       "    </tr>\n",
       "    <tr>\n",
       "      <th>1</th>\n",
       "      <td>39.760138</td>\n",
       "      <td>24.309283</td>\n",
       "      <td>-28.205911</td>\n",
       "      <td>16.030822</td>\n",
       "      <td>9.288279</td>\n",
       "      <td>correct_3JAE_1.pdb</td>\n",
       "    </tr>\n",
       "    <tr>\n",
       "      <th>2</th>\n",
       "      <td>32.724219</td>\n",
       "      <td>-6.884117</td>\n",
       "      <td>-19.065952</td>\n",
       "      <td>15.816239</td>\n",
       "      <td>10.253167</td>\n",
       "      <td>correct_3JAF_1.pdb</td>\n",
       "    </tr>\n",
       "    <tr>\n",
       "      <th>3</th>\n",
       "      <td>13.183714</td>\n",
       "      <td>-2.029423</td>\n",
       "      <td>12.525681</td>\n",
       "      <td>6.482278</td>\n",
       "      <td>-12.101557</td>\n",
       "      <td>correct_6PLO_1.pdb</td>\n",
       "    </tr>\n",
       "    <tr>\n",
       "      <th>4</th>\n",
       "      <td>12.448334</td>\n",
       "      <td>-11.281613</td>\n",
       "      <td>7.963732</td>\n",
       "      <td>7.069896</td>\n",
       "      <td>-2.347574</td>\n",
       "      <td>correct_6PLP_1.pdb</td>\n",
       "    </tr>\n",
       "  </tbody>\n",
       "</table>\n",
       "</div>"
      ],
      "text/plain": [
       "         PC1        PC2        PC3        PC4        PC5               order\n",
       "0 -83.204008  14.657816 -15.448281  19.232984 -14.219140  correct_3JAD_1.pdb\n",
       "1  39.760138  24.309283 -28.205911  16.030822   9.288279  correct_3JAE_1.pdb\n",
       "2  32.724219  -6.884117 -19.065952  15.816239  10.253167  correct_3JAF_1.pdb\n",
       "3  13.183714  -2.029423  12.525681   6.482278 -12.101557  correct_6PLO_1.pdb\n",
       "4  12.448334 -11.281613   7.963732   7.069896  -2.347574  correct_6PLP_1.pdb"
      ]
     },
     "metadata": {},
     "execution_count": 10
    }
   ],
   "metadata": {}
  },
  {
   "cell_type": "code",
   "execution_count": 11,
   "source": [
    "import seaborn as sns\n",
    "\n",
    "p=sns.scatterplot(data=df,x=\"PC1\",y=\"PC2\",color=\"orange\")\n",
    "for _,row in df.iterrows():\n",
    "    plt.text(x=row.PC1, y=row.PC2, s=row.order.split(\"_\")[1])"
   ],
   "outputs": [
    {
     "output_type": "display_data",
     "data": {
      "image/png": "[encoded data removed]",
      "text/plain": [
       "<Figure size 432x288 with 1 Axes>"
      ]
     },
     "metadata": {
      "needs_background": "light"
     }
    }
   ],
   "metadata": {}
  }
 ],
 "metadata": {
  "orig_nbformat": 4,
  "language_info": {
   "name": "python",
   "version": "3.9.6",
   "mimetype": "text/x-python",
   "codemirror_mode": {
    "name": "ipython",
    "version": 3
   },
   "pygments_lexer": "ipython3",
   "nbconvert_exporter": "python",
   "file_extension": ".py"
  },
  "kernelspec": {
   "name": "python3",
   "display_name": "Python 3.9.6 64-bit"
  },
  "interpreter": {
   "hash": "36cf16204b8548560b1c020c4e8fb5b57f0e4c58016f52f2d4be01e192833930"
  }
 },
 "nbformat": 4,
 "nbformat_minor": 2
}